{
 "cells": [
  {
   "cell_type": "code",
   "execution_count": 1,
   "metadata": {},
   "outputs": [],
   "source": [
    "# %%capture\n",
    "# !pip install pyautogui\n",
    "# !pip install clipboard"
   ]
  },
  {
   "cell_type": "code",
   "execution_count": 3,
   "metadata": {},
   "outputs": [],
   "source": [
    "import pyautogui\n",
    "import time\n",
    "import clipboard\n",
    "import pyperclip"
   ]
  },
  {
   "cell_type": "code",
   "execution_count": 4,
   "metadata": {},
   "outputs": [
    {
     "data": {
      "text/plain": [
       "Point(x=17, y=547)"
      ]
     },
     "execution_count": 4,
     "metadata": {},
     "output_type": "execute_result"
    }
   ],
   "source": [
    "# Sleep for a second\n",
    "time.sleep(2)\n",
    "pyautogui.position()"
   ]
  },
  {
   "cell_type": "code",
   "execution_count": 5,
   "metadata": {},
   "outputs": [],
   "source": [
    "def waiting(chat):\n",
    "    time.sleep(2)\n",
    "    new = True\n",
    "    while new: \n",
    "        button_location = pyautogui.locateOnScreen('wait.png', confidence=.8)\n",
    "        if button_location is not None:\n",
    "            a, b, c, d = button_location\n",
    "            x, y = a+c//2, b+d//2\n",
    "            x0, y0 = chat\n",
    "            if y0-y<150:\n",
    "                new = False\n",
    "        time.sleep(0.5)"
   ]
  },
  {
   "cell_type": "code",
   "execution_count": 20,
   "metadata": {},
   "outputs": [],
   "source": [
    "def find_chat():\n",
    "    button_location = pyautogui.locateOnScreen('ask_me.png')\n",
    "    chat = None\n",
    "    if button_location is not None:\n",
    "        # Object found, get its coordinates\n",
    "        a, b, c, d = button_location\n",
    "        x, y = a+c//2, b+d//2\n",
    "        chat = (x, y)\n",
    "        \n",
    "    return chat"
   ]
  },
  {
   "cell_type": "code",
   "execution_count": 7,
   "metadata": {},
   "outputs": [],
   "source": [
    "# x0, y0 = pyautogui.position()\n",
    "\n",
    "# chat = find_chat() \n",
    "\n",
    "# pyautogui.moveTo(*chat)\n",
    "# pyautogui.click(*chat)\n",
    "\n",
    "# q = \"Julieta tiene cinco laminas y le regala 2 a su amiga. ¿Cuantas laminas tiene ahora Julieta? Explica con tus propias palabras como llegaste al resultado\"\n",
    "# a = \"Julieta tiene 3, ya que 5-2=3 laminas\"\n",
    "\n",
    "# prompt_QA = lambda q, a: f\"Pregunta: {q}. Respuesta: {a}.\"\n",
    "# # pyautogui.typewrite(prompt_QA(q, a))\n",
    "# pyperclip.copy(prompt_QA(q, a))\n",
    "# pyautogui.hotkey(\"ctrl\", \"v\")\n",
    "# pyautogui.press('enter')\n",
    "\n",
    "# pyautogui.moveTo(x0, y0)\n",
    "# pyautogui.click(x0, y0)\n",
    "\n",
    "# waiting(chat)\n",
    "\n",
    "# chat = find_chat() \n",
    "\n",
    "# pyautogui.moveTo(chat[0], chat[1]-330)\n",
    "# pyautogui.click(clicks=3)\n",
    "# pyautogui.hotkey('ctrl', 'c')\n",
    "\n",
    "# respuesta_chat = []\n",
    "\n",
    "# r = clipboard.paste()\n",
    "# print(r)\n",
    "# respuesta_chat.append(r)\n",
    "\n",
    "# for a in A:\n",
    "#     pyautogui.moveTo(*chat)\n",
    "#     pyautogui.click(*chat)\n",
    "\n",
    "#     prompt_A = lambda a: f\"Respuesta: {a}.\"\n",
    "#     pyautogui.typewrite(prompt_A(a))\n",
    "#     pyautogui.press('enter')\n",
    "\n",
    "#     pyautogui.moveTo(x0, y0)\n",
    "#     pyautogui.click(x0, y0)\n",
    "\n",
    "#     waiting(chat)\n",
    "\n",
    "#     chat = find_chat() \n",
    "\n",
    "#     pyautogui.moveTo(chat[0], chat[1]-330)\n",
    "#     pyautogui.click(clicks=3)\n",
    "#     pyautogui.hotkey('ctrl', 'c')\n",
    "\n",
    "#     r = clipboard.paste()\n",
    "#     if \"😔\" not in r:\n",
    "#         print(r)\n",
    "#         respuesta_chat.append(r)\n",
    "#     else:\n",
    "#         break\n",
    "\n",
    "# respuesta_chat"
   ]
  },
  {
   "cell_type": "code",
   "execution_count": 8,
   "metadata": {},
   "outputs": [],
   "source": [
    "import pandas as pd"
   ]
  },
  {
   "cell_type": "code",
   "execution_count": 7,
   "metadata": {},
   "outputs": [],
   "source": [
    "test = pd.read_excel(\"D:\\\\github/coherence-prediction/data/test_task_C1.xlsx\")\n",
    "test = test.sort_values(\"Q_id\", ascending=False)\n",
    "test"
   ]
  },
  {
   "cell_type": "code",
   "execution_count": 10,
   "metadata": {},
   "outputs": [],
   "source": [
    "prompt_QA = lambda q, a: f\"[¿coherente o incoherente?] <Pregunta> {q}; <Respuesta> {a}.\""
   ]
  },
  {
   "cell_type": "code",
   "execution_count": 200,
   "metadata": {
    "scrolled": true
   },
   "outputs": [
    {
     "name": "stdout",
     "output_type": "stream",
     "text": [
      "(2740, 48584, 'Esta respuesta es incoherente a la pregunta. La frase \\'dos desena son 20\\' no explica por qué 2D de manzanas sería igual a 20 manzanas. La respuesta correcta sería que 2D de manzanas equivale a 20 manzanas porque \"2D\" significa 2 decenas, y una decena es igual a 10 unidades, por lo tanto, 2 decenas son iguales a 20 unidades.')\n",
      "(2736, 48570, \"Esta respuesta es incoherente a la pregunta. La respuesta no explica por qué los alimentos elegidos en la pregunta 1 serían los correctos. Además, la frase 'lo retiene al igualnquneun paño' no tiene sentido gramatical. La respuesta correcta sería que los alimentos elegidos en la pregunta 1 son los correctos porque el pan es más blando y absorbe los líquidos mejor que el pan integral, lo que lo hace ideal para preparar sándwiches.\")\n",
      "(2728, 48516, \"Esta respuesta es incoherente a la pregunta. La frase 'Bien porque fue fasil porque lo abia aprendido en el taller de coputacion' no explica por qué la actividad de clasificación fue difícil o fácil. La respuesta correcta sería que la actividad de clasificación fue difícil porque requería mucha concentración y habilidades de análisis para identificar y clasificar correctamente los elementos.\")\n",
      "(2728, 48519, \"Esta respuesta es incoherente a la pregunta. La frase 'No porqué trabajado todas en equipo' no explica por qué la actividad de clasificación fue difícil o fácil. La respuesta correcta sería que la actividad de clasificación fue difícil porque requería mucha concentración y habilidades de análisis para identificar y clasificar correctamente los elementos.\")\n",
      "(2727, 48458, \"Esta respuesta es incoherente a la pregunta. La frase 'Y' no explica cuales son otras características importantes presentes en toda la materia ni por qué son importantes. La respuesta correcta sería que otra característica importante que está presente en toda la materia es la comprensión de conceptos, ya que es necesario entender los conceptos básicos para poder aplicarlos a situaciones concretas.\")\n",
      "(2724, 48412, \"Esta respuesta es incoherente a la pregunta. La frase 'Nose' no explica cuales son otras características relevantes presentes en toda la materia ni por qué son importantes. La respuesta correcta sería que otra característica relevante en toda la materia es el pensamiento crítico, ya que es esencial para analizar y evaluar de forma adecuada la información y encontrar soluciones innovadoras a los problemas.\")\n",
      "(2724, 48413, \"Esta respuesta es incoherente a la pregunta. La frase 'I' no explica cuales son otras características relevantes presentes en toda la materia ni por qué son importantes. La respuesta correcta sería que otra característica relevante en toda la materia es el pensamiento crítico, ya que es esencial para analizar y evaluar de forma adecuada la información y encontrar soluciones innovadoras a los problemas.\")\n"
     ]
    }
   ],
   "source": [
    "x0, y0 = pyautogui.position()\n",
    "respuesta_chat = []\n",
    "\n",
    "chat = find_chat() \n",
    "\n",
    "pyautogui.moveTo(*chat)\n",
    "pyautogui.click(*chat)\n",
    "\n",
    "z0 = len(respuesta_chat_1)\n",
    "\n",
    "q = test[\"Q\"].iloc[z0]\n",
    "a = test[\"A\"].iloc[z0]\n",
    "A_id = test[\"id\"].iloc[z0]\n",
    "Q_id = test[\"Q_id\"].iloc[z0]\n",
    "\n",
    "pyperclip.copy(prompt_QA(q, a))\n",
    "pyautogui.hotkey(\"ctrl\", \"v\")\n",
    "pyautogui.press('enter')\n",
    "\n",
    "pyautogui.moveTo(x0, y0)\n",
    "pyautogui.click(x0, y0)\n",
    "\n",
    "waiting(chat)\n",
    "\n",
    "chat = find_chat() \n",
    "\n",
    "pyautogui.moveTo(chat[0], chat[1]-330)\n",
    "pyautogui.click(clicks=3)\n",
    "pyautogui.hotkey('ctrl', 'c')\n",
    "\n",
    "r = clipboard.paste()\n",
    "respuesta_chat.append((Q_id, A_id, r))\n",
    "print(respuesta_chat[-1])\n",
    "\n",
    "for ix in range(z0+1, test.shape[0]):\n",
    "    row = test.iloc[ix]\n",
    "    q, a, A_id, Q_id = row.loc[\"Q\"], row.loc[\"A\"], row.loc[\"id\"], row.loc[\"Q_id\"]\n",
    "    \n",
    "    pyautogui.moveTo(*chat)\n",
    "    pyautogui.click(*chat)\n",
    "\n",
    "    pyperclip.copy(prompt_QA(q, a))\n",
    "    pyautogui.hotkey(\"ctrl\", \"v\")\n",
    "    pyautogui.press('enter')\n",
    "\n",
    "    pyautogui.moveTo(x0, y0)\n",
    "    pyautogui.click(x0, y0)\n",
    "\n",
    "    waiting(chat)\n",
    "\n",
    "    chat = find_chat() \n",
    "\n",
    "    pyautogui.moveTo(chat[0], chat[1]-330)\n",
    "    pyautogui.click(clicks=3)\n",
    "    pyautogui.hotkey('ctrl', 'c')\n",
    "\n",
    "    r = clipboard.paste()\n",
    "    if \"😔\" not in r and \"[¿coherente o incoherente?]\" not in r:\n",
    "        respuesta_chat.append((Q_id, A_id, r))\n",
    "        print(respuesta_chat[-1])\n",
    "    else:\n",
    "#         time.step(5)\n",
    "        break"
   ]
  },
  {
   "cell_type": "code",
   "execution_count": 12,
   "metadata": {},
   "outputs": [],
   "source": [
    "import pickle"
   ]
  },
  {
   "cell_type": "code",
   "execution_count": 14,
   "metadata": {},
   "outputs": [],
   "source": [
    "respuesta_chat_1 = pickle.load(open(\"respuesta_youchat_v3.pickle\", \"rb\"))"
   ]
  },
  {
   "cell_type": "code",
   "execution_count": 221,
   "metadata": {},
   "outputs": [
    {
     "data": {
      "text/plain": [
       "686"
      ]
     },
     "execution_count": 221,
     "metadata": {},
     "output_type": "execute_result"
    }
   ],
   "source": [
    "# respuesta_chat_1 += respuesta_chat\n",
    "len(respuesta_chat_1)"
   ]
  },
  {
   "cell_type": "code",
   "execution_count": 204,
   "metadata": {},
   "outputs": [],
   "source": [
    "pickle.dump(respuesta_chat_1, open(\"respuesta_youchat_v3.pickle\", \"wb\"))"
   ]
  },
  {
   "cell_type": "code",
   "execution_count": null,
   "metadata": {},
   "outputs": [],
   "source": [
    "\"Hola, ¿estas preparado?\""
   ]
  },
  {
   "cell_type": "code",
   "execution_count": 88,
   "metadata": {},
   "outputs": [
    {
     "data": {
      "text/plain": [
       "'Eres un clasificador de incoherencia en respuestas a preguntas abiertas de alumnos de cuarto grado en matematicas. \\nTe dare una pregunta y diferentes respuestas. \\nLuego tienes que decir si la respuestas es coherente a la pregunta o bien incoherente a la pregunta, junto a una explicacion. Las respuestas coherentes pueden ser incorrectas. \\n¿Estas listo?'"
      ]
     },
     "execution_count": 88,
     "metadata": {},
     "output_type": "execute_result"
    }
   ],
   "source": [
    "\"\"\"Eres un clasificador de incoherencia en respuestas a preguntas abiertas de alumnos de cuarto grado en matematicas. \n",
    "Te dare una pregunta y diferentes respuestas. \n",
    "Luego tienes que decir si la respuestas es coherente a la pregunta o bien incoherente a la pregunta, junto a una explicacion. Las respuestas coherentes pueden ser incorrectas. \n",
    "¿Estas listo?\"\"\""
   ]
  },
  {
   "cell_type": "code",
   "execution_count": 275,
   "metadata": {},
   "outputs": [],
   "source": [
    "a_ids = set([x[1] for x in respuesta_chat_x])"
   ]
  },
  {
   "cell_type": "code",
   "execution_count": 276,
   "metadata": {},
   "outputs": [
    {
     "data": {
      "text/plain": [
       "673"
      ]
     },
     "execution_count": 276,
     "metadata": {},
     "output_type": "execute_result"
    }
   ],
   "source": [
    "len(a_ids)"
   ]
  },
  {
   "cell_type": "code",
   "execution_count": 277,
   "metadata": {},
   "outputs": [],
   "source": [
    "others_test = test[~test[\"id\"].isin(a_ids)]"
   ]
  },
  {
   "cell_type": "code",
   "execution_count": 278,
   "metadata": {},
   "outputs": [
    {
     "data": {
      "text/plain": [
       "(4, 5)"
      ]
     },
     "execution_count": 278,
     "metadata": {},
     "output_type": "execute_result"
    }
   ],
   "source": [
    "others_test.shape"
   ]
  },
  {
   "cell_type": "code",
   "execution_count": 279,
   "metadata": {},
   "outputs": [
    {
     "name": "stdout",
     "output_type": "stream",
     "text": [
      "(3385, 60129, 'La respuesta es coherente a la pregunta, ya que la respuesta especifica cuántas paltas deben colocarse en cada bandeja para cumplir con la condición de que sean repartidas en partes iguales dentro de las tres bandejas. La pregunta que se puede formular para este problema sería \"¿Cuántas paltas se deben colocar en cada bandeja para repartir 12 paltas en partes iguales?\"')\n",
      "(3109, 54685, 'La respuesta es incoherente a la pregunta, ya que 0 multiplicado por cualquier número siempre da como resultado 0. Lo que Lorena dice no es correcto, ya que cuando se multiplica un número por 0, el resultado siempre es 0.')\n",
      "(3109, 54707, 'La respuesta es coherente a la pregunta, ya que explica con sus propias palabras por qué lo que dice Lorena no es correcto. La respuesta es que el resultado de multiplicar 3x0 es 0, y no 3 como dice Lorena.')\n",
      "(3109, 54713, 'La respuesta es coherente a la pregunta, ya que explica con sus propias palabras por qué lo que dice Lorena no es correcto. La respuesta es que el resultado de multiplicar 3x0 es 0, y no 3 como dice Lorena.')\n"
     ]
    }
   ],
   "source": [
    "x0, y0 = pyautogui.position()\n",
    "respuesta_chat = []\n",
    "\n",
    "chat = find_chat() \n",
    "\n",
    "pyautogui.moveTo(*chat)\n",
    "pyautogui.click(*chat)\n",
    "\n",
    "q = others_test[\"Q\"].iloc[0]\n",
    "a = others_test[\"A\"].iloc[0]\n",
    "A_id = others_test[\"id\"].iloc[0]\n",
    "Q_id = others_test[\"Q_id\"].iloc[0]\n",
    "\n",
    "pyperclip.copy(prompt_QA(q, a))\n",
    "pyautogui.hotkey(\"ctrl\", \"v\")\n",
    "pyautogui.press('enter')\n",
    "\n",
    "pyautogui.moveTo(x0, y0)\n",
    "pyautogui.click(x0, y0)\n",
    "\n",
    "waiting(chat)\n",
    "\n",
    "chat = find_chat() \n",
    "\n",
    "pyautogui.moveTo(chat[0], chat[1]-330)\n",
    "pyautogui.click(clicks=3)\n",
    "pyautogui.hotkey('ctrl', 'c')\n",
    "\n",
    "r = clipboard.paste()\n",
    "respuesta_chat.append((Q_id, A_id, r))\n",
    "print(respuesta_chat[-1])\n",
    "\n",
    "for ix in range(1, others_test.shape[0]):\n",
    "    row = others_test.iloc[ix]\n",
    "    q, a, A_id, Q_id = row.loc[\"Q\"], row.loc[\"A\"], row.loc[\"id\"], row.loc[\"Q_id\"]\n",
    "    \n",
    "    pyautogui.moveTo(*chat)\n",
    "    pyautogui.click(*chat)\n",
    "\n",
    "    pyperclip.copy(prompt_QA(q, a))\n",
    "    pyautogui.hotkey(\"ctrl\", \"v\")\n",
    "    pyautogui.press('enter')\n",
    "\n",
    "    pyautogui.moveTo(x0, y0)\n",
    "    pyautogui.click(x0, y0)\n",
    "\n",
    "    waiting(chat)\n",
    "\n",
    "    chat = find_chat() \n",
    "\n",
    "    pyautogui.moveTo(chat[0], chat[1]-330)\n",
    "    pyautogui.click(clicks=3)\n",
    "    pyautogui.hotkey('ctrl', 'c')\n",
    "\n",
    "    r = clipboard.paste()\n",
    "    if \"😔\" not in r and \"[¿coherente o incoherente?]\" not in r:\n",
    "        respuesta_chat.append((Q_id, A_id, r))\n",
    "        print(respuesta_chat[-1])\n",
    "    else:\n",
    "#         time.step(5)\n",
    "        break"
   ]
  },
  {
   "cell_type": "code",
   "execution_count": 280,
   "metadata": {},
   "outputs": [
    {
     "name": "stdout",
     "output_type": "stream",
     "text": [
      "677\n"
     ]
    }
   ],
   "source": [
    "respuesta_chat_y = []\n",
    "a_ids = []\n",
    "for x in respuesta_chat_x+respuesta_chat:\n",
    "    if x[1] not in a_ids:\n",
    "        respuesta_chat_y.append(x)\n",
    "        a_ids.append(x[1])\n",
    "print(len(respuesta_chat_y))\n",
    "pickle.dump(respuesta_chat_y, open(\"respuesta_youchat_v8.pickle\", \"wb\"))"
   ]
  },
  {
   "cell_type": "code",
   "execution_count": 3,
   "metadata": {},
   "outputs": [],
   "source": [
    "chat_prediction = pd.DataFrame(respuesta_chat_y, columns=\"Q_id id Chat\".split())\n",
    "chat_prediction"
   ]
  },
  {
   "cell_type": "code",
   "execution_count": 289,
   "metadata": {},
   "outputs": [
    {
     "data": {
      "text/plain": [
       "0      1\n",
       "1      1\n",
       "2      1\n",
       "3      1\n",
       "4      1\n",
       "      ..\n",
       "672    1\n",
       "673    0\n",
       "674    1\n",
       "675    0\n",
       "676    0\n",
       "Name: Class, Length: 677, dtype: int64"
      ]
     },
     "execution_count": 289,
     "metadata": {},
     "output_type": "execute_result"
    }
   ],
   "source": [
    "chat_prediction[\"Class\"] = chat_prediction[\"Chat\"].apply(lambda x: x.replace(\"Esta respuesta es\", \"\").split()[0] if \"Esta respuesta es\" in x else x.replace(\"La respuesta es\", \"\").split()[0] if \"La respuesta es\" in x else x)\n",
    "chat_prediction[\"Class\"] = chat_prediction[\"Chat\"].apply(lambda x: 1 if \"incoherente\" in x else 0)\n",
    "chat_prediction[\"Class\"]"
   ]
  },
  {
   "cell_type": "code",
   "execution_count": 2,
   "metadata": {},
   "outputs": [],
   "source": [
    "test"
   ]
  },
  {
   "cell_type": "code",
   "execution_count": 1,
   "metadata": {},
   "outputs": [],
   "source": [
    "compare = test.set_index(\"id\")\n",
    "compare[\"YouChat\"] = chat_prediction.set_index(\"id\").loc[compare.index][\"Class\"]\n",
    "compare[\"Ex\"] = chat_prediction.set_index(\"id\").loc[compare.index][\"Chat\"]\n",
    "compare"
   ]
  },
  {
   "cell_type": "code",
   "execution_count": 295,
   "metadata": {},
   "outputs": [],
   "source": [
    "from sklearn.metrics import classification_report"
   ]
  },
  {
   "cell_type": "code",
   "execution_count": 299,
   "metadata": {},
   "outputs": [
    {
     "name": "stdout",
     "output_type": "stream",
     "text": [
      "              precision    recall  f1-score   support\n",
      "\n",
      "           0     0.9741    0.5564    0.7082       541\n",
      "           1     0.3478    0.9412    0.5079       136\n",
      "\n",
      "    accuracy                         0.6337       677\n",
      "   macro avg     0.6610    0.7488    0.6081       677\n",
      "weighted avg     0.8483    0.6337    0.6680       677\n",
      "\n"
     ]
    }
   ],
   "source": [
    "print(classification_report(compare[\"label\"], compare[\"YouChat\"], digits=4))"
   ]
  },
  {
   "cell_type": "code",
   "execution_count": 4,
   "metadata": {},
   "outputs": [],
   "source": [
    "compare[(compare[\"label\"] == 1) & (compare[\"YouChat\"] == 0)].head(15)"
   ]
  },
  {
   "cell_type": "code",
   "execution_count": 5,
   "metadata": {},
   "outputs": [],
   "source": [
    "compare[compare[\"Ex\"].apply(lambda x: \"Antonella\" in x)].head(15)"
   ]
  },
  {
   "cell_type": "code",
   "execution_count": 6,
   "metadata": {},
   "outputs": [],
   "source": [
    "for x in compare.loc[87284]:\n",
    "    print(x)"
   ]
  }
 ],
 "metadata": {
  "kernelspec": {
   "display_name": "Python 3 (ipykernel)",
   "language": "python",
   "name": "python3"
  },
  "language_info": {
   "codemirror_mode": {
    "name": "ipython",
    "version": 3
   },
   "file_extension": ".py",
   "mimetype": "text/x-python",
   "name": "python",
   "nbconvert_exporter": "python",
   "pygments_lexer": "ipython3",
   "version": "3.8.5"
  }
 },
 "nbformat": 4,
 "nbformat_minor": 4
}
