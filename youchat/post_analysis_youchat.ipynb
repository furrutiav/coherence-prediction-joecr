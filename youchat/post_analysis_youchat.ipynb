{
 "cells": [
  {
   "cell_type": "code",
   "execution_count": 1,
   "metadata": {},
   "outputs": [],
   "source": [
    "import pandas as pd\n",
    "import pickle"
   ]
  },
  {
   "cell_type": "code",
   "execution_count": 2,
   "metadata": {},
   "outputs": [],
   "source": [
    "models = [\n",
    "    \"bloom_label_v1.xlsx\",\n",
    "    \"bloomz_label_v3.xlsx\",\n",
    "    \"gpt_label_v7.xlsx\"\n",
    "]"
   ]
  },
  {
   "cell_type": "code",
   "execution_count": 3,
   "metadata": {},
   "outputs": [],
   "source": [
    "preds = {\n",
    "    k: pd.read_excel(k) for k in models\n",
    "}\n",
    "o = pickle.load(open(\"respuesta_youchat_v8.pickle\", \"rb\"))\n",
    "chat_prediction = pd.DataFrame(o, columns=\"Q_id id you\".split())\n",
    "chat_prediction[\"you-label\"] = chat_prediction[\"you\"].apply(lambda x: x.replace(\"Esta respuesta es\", \"\").split()[0] if \"Esta respuesta es\" in x else x.replace(\"La respuesta es\", \"\").split()[0] if \"La respuesta es\" in x else x)\n",
    "chat_prediction[\"you-label\"] = chat_prediction[\"you\"].apply(lambda x: 1 if \"incoherente\" in x else 0)\n",
    "\n",
    "compare = preds[\"gpt_label_v7.xlsx\"].set_index(\"id\")\n",
    "compare[\"you\"] = chat_prediction.set_index(\"id\").loc[compare.index][\"you\"]\n",
    "compare[\"you-label\"] = chat_prediction.set_index(\"id\").loc[compare.index][\"you-label\"]\n",
    "compare = compare.drop(columns=\"gpt-label  gpt  Unnamed: 0\".split(\"  \"))\n",
    "preds[\"youchat.xlsx\"] = compare.loc[preds[\"gpt_label_v7.xlsx\"].set_index(\"id\").index]\n",
    "indexs = preds[\"youchat.xlsx\"].index\n",
    "for k in preds.keys(): \n",
    "    preds[k][\"eq\"] = preds[k].apply(lambda x: {(1, 1): 1, (0, 0): 5, (1, 0): 25, (0, 1): 25*4}[(x.iloc[-1], x.iloc[-3])], axis=1)\n",
    "    if k != \"youchat.xlsx\":\n",
    "        preds[k] = preds[k].set_index(\"id\").loc[indexs]"
   ]
  },
  {
   "cell_type": "code",
   "execution_count": 4,
   "metadata": {},
   "outputs": [],
   "source": [
    "comp = []\n",
    "for k in preds.keys():\n",
    "    comp += [list(preds[k][\"eq\"].values)]"
   ]
  },
  {
   "cell_type": "code",
   "execution_count": 5,
   "metadata": {},
   "outputs": [],
   "source": [
    "import numpy as np"
   ]
  },
  {
   "cell_type": "code",
   "execution_count": 6,
   "metadata": {
    "scrolled": true
   },
   "outputs": [
    {
     "data": {
      "text/html": [
       "<div>\n",
       "<style scoped>\n",
       "    .dataframe tbody tr th:only-of-type {\n",
       "        vertical-align: middle;\n",
       "    }\n",
       "\n",
       "    .dataframe tbody tr th {\n",
       "        vertical-align: top;\n",
       "    }\n",
       "\n",
       "    .dataframe thead th {\n",
       "        text-align: right;\n",
       "    }\n",
       "</style>\n",
       "<table border=\"1\" class=\"dataframe\">\n",
       "  <thead>\n",
       "    <tr style=\"text-align: right;\">\n",
       "      <th></th>\n",
       "      <th>0</th>\n",
       "      <th>1</th>\n",
       "      <th>2</th>\n",
       "      <th>3</th>\n",
       "      <th>sum</th>\n",
       "      <th>type</th>\n",
       "      <th>ord</th>\n",
       "    </tr>\n",
       "    <tr>\n",
       "      <th>id</th>\n",
       "      <th></th>\n",
       "      <th></th>\n",
       "      <th></th>\n",
       "      <th></th>\n",
       "      <th></th>\n",
       "      <th></th>\n",
       "      <th></th>\n",
       "    </tr>\n",
       "  </thead>\n",
       "  <tbody>\n",
       "    <tr>\n",
       "      <th>88565</th>\n",
       "      <td>1</td>\n",
       "      <td>1</td>\n",
       "      <td>1</td>\n",
       "      <td>1</td>\n",
       "      <td>4</td>\n",
       "      <td>[1 1 1 1]</td>\n",
       "      <td>3</td>\n",
       "    </tr>\n",
       "    <tr>\n",
       "      <th>51688</th>\n",
       "      <td>1</td>\n",
       "      <td>1</td>\n",
       "      <td>1</td>\n",
       "      <td>1</td>\n",
       "      <td>4</td>\n",
       "      <td>[1 1 1 1]</td>\n",
       "      <td>3</td>\n",
       "    </tr>\n",
       "    <tr>\n",
       "      <th>73857</th>\n",
       "      <td>1</td>\n",
       "      <td>1</td>\n",
       "      <td>1</td>\n",
       "      <td>1</td>\n",
       "      <td>4</td>\n",
       "      <td>[1 1 1 1]</td>\n",
       "      <td>3</td>\n",
       "    </tr>\n",
       "    <tr>\n",
       "      <th>92561</th>\n",
       "      <td>1</td>\n",
       "      <td>1</td>\n",
       "      <td>1</td>\n",
       "      <td>1</td>\n",
       "      <td>4</td>\n",
       "      <td>[1 1 1 1]</td>\n",
       "      <td>3</td>\n",
       "    </tr>\n",
       "    <tr>\n",
       "      <th>49317</th>\n",
       "      <td>1</td>\n",
       "      <td>1</td>\n",
       "      <td>1</td>\n",
       "      <td>1</td>\n",
       "      <td>4</td>\n",
       "      <td>[1 1 1 1]</td>\n",
       "      <td>3</td>\n",
       "    </tr>\n",
       "    <tr>\n",
       "      <th>...</th>\n",
       "      <td>...</td>\n",
       "      <td>...</td>\n",
       "      <td>...</td>\n",
       "      <td>...</td>\n",
       "      <td>...</td>\n",
       "      <td>...</td>\n",
       "      <td>...</td>\n",
       "    </tr>\n",
       "    <tr>\n",
       "      <th>83459</th>\n",
       "      <td>1</td>\n",
       "      <td>100</td>\n",
       "      <td>1</td>\n",
       "      <td>100</td>\n",
       "      <td>202</td>\n",
       "      <td>[  1 100   1 100]</td>\n",
       "      <td>19</td>\n",
       "    </tr>\n",
       "    <tr>\n",
       "      <th>68572</th>\n",
       "      <td>100</td>\n",
       "      <td>100</td>\n",
       "      <td>1</td>\n",
       "      <td>1</td>\n",
       "      <td>202</td>\n",
       "      <td>[100 100   1   1]</td>\n",
       "      <td>21</td>\n",
       "    </tr>\n",
       "    <tr>\n",
       "      <th>48858</th>\n",
       "      <td>100</td>\n",
       "      <td>1</td>\n",
       "      <td>100</td>\n",
       "      <td>100</td>\n",
       "      <td>301</td>\n",
       "      <td>[100   1 100 100]</td>\n",
       "      <td>11</td>\n",
       "    </tr>\n",
       "    <tr>\n",
       "      <th>54889</th>\n",
       "      <td>1</td>\n",
       "      <td>100</td>\n",
       "      <td>100</td>\n",
       "      <td>100</td>\n",
       "      <td>301</td>\n",
       "      <td>[  1 100 100 100]</td>\n",
       "      <td>18</td>\n",
       "    </tr>\n",
       "    <tr>\n",
       "      <th>49201</th>\n",
       "      <td>1</td>\n",
       "      <td>100</td>\n",
       "      <td>100</td>\n",
       "      <td>100</td>\n",
       "      <td>301</td>\n",
       "      <td>[  1 100 100 100]</td>\n",
       "      <td>18</td>\n",
       "    </tr>\n",
       "  </tbody>\n",
       "</table>\n",
       "<p>677 rows × 7 columns</p>\n",
       "</div>"
      ],
      "text/plain": [
       "         0    1    2    3  sum               type  ord\n",
       "id                                                    \n",
       "88565    1    1    1    1    4          [1 1 1 1]    3\n",
       "51688    1    1    1    1    4          [1 1 1 1]    3\n",
       "73857    1    1    1    1    4          [1 1 1 1]    3\n",
       "92561    1    1    1    1    4          [1 1 1 1]    3\n",
       "49317    1    1    1    1    4          [1 1 1 1]    3\n",
       "...    ...  ...  ...  ...  ...                ...  ...\n",
       "83459    1  100    1  100  202  [  1 100   1 100]   19\n",
       "68572  100  100    1    1  202  [100 100   1   1]   21\n",
       "48858  100    1  100  100  301  [100   1 100 100]   11\n",
       "54889    1  100  100  100  301  [  1 100 100 100]   18\n",
       "49201    1  100  100  100  301  [  1 100 100 100]   18\n",
       "\n",
       "[677 rows x 7 columns]"
      ]
     },
     "execution_count": 6,
     "metadata": {},
     "output_type": "execute_result"
    }
   ],
   "source": [
    "df_comp = pd.DataFrame(comp, columns=preds[k].index).T\n",
    "df_comp[\"sum\"] = df_comp.sum(axis=1)\n",
    "df_comp[\"type\"] = df_comp.apply(lambda x: str(x.values[:-1]), axis=1)\n",
    "df_comp[\"ord\"] = df_comp.apply(lambda x: np.argmax(df_comp[\"type\"].unique() == x[\"type\"]), axis=1)\n",
    "df_comp = df_comp.sort_values([\"sum\", \"ord\"], ignore_index=False, inplace=False)\n",
    "df_comp"
   ]
  },
  {
   "cell_type": "code",
   "execution_count": 7,
   "metadata": {},
   "outputs": [],
   "source": [
    "from matplotlib import pyplot as plt"
   ]
  },
  {
   "cell_type": "code",
   "execution_count": 8,
   "metadata": {},
   "outputs": [
    {
     "data": {
      "text/plain": [
       "array([ 25,  25,  25,  25, 100], dtype=int64)"
      ]
     },
     "execution_count": 8,
     "metadata": {},
     "output_type": "execute_result"
    }
   ],
   "source": [
    "df_comp[[0, 1, 2, 3, \"sum\"]].values[600]"
   ]
  },
  {
   "cell_type": "code",
   "execution_count": 797,
   "metadata": {},
   "outputs": [
    {
     "data": {
      "text/html": [
       "<div>\n",
       "<style scoped>\n",
       "    .dataframe tbody tr th:only-of-type {\n",
       "        vertical-align: middle;\n",
       "    }\n",
       "\n",
       "    .dataframe tbody tr th {\n",
       "        vertical-align: top;\n",
       "    }\n",
       "\n",
       "    .dataframe thead th {\n",
       "        text-align: right;\n",
       "    }\n",
       "</style>\n",
       "<table border=\"1\" class=\"dataframe\">\n",
       "  <thead>\n",
       "    <tr style=\"text-align: right;\">\n",
       "      <th></th>\n",
       "      <th>0</th>\n",
       "      <th>1</th>\n",
       "      <th>2</th>\n",
       "      <th>3</th>\n",
       "      <th>sum</th>\n",
       "      <th>type</th>\n",
       "      <th>ord</th>\n",
       "    </tr>\n",
       "    <tr>\n",
       "      <th>id</th>\n",
       "      <th></th>\n",
       "      <th></th>\n",
       "      <th></th>\n",
       "      <th></th>\n",
       "      <th></th>\n",
       "      <th></th>\n",
       "      <th></th>\n",
       "    </tr>\n",
       "  </thead>\n",
       "  <tbody>\n",
       "    <tr>\n",
       "      <th>88565</th>\n",
       "      <td>1</td>\n",
       "      <td>1</td>\n",
       "      <td>1</td>\n",
       "      <td>1</td>\n",
       "      <td>4</td>\n",
       "      <td>[1 1 1 1]</td>\n",
       "      <td>3</td>\n",
       "    </tr>\n",
       "    <tr>\n",
       "      <th>51688</th>\n",
       "      <td>1</td>\n",
       "      <td>1</td>\n",
       "      <td>1</td>\n",
       "      <td>1</td>\n",
       "      <td>4</td>\n",
       "      <td>[1 1 1 1]</td>\n",
       "      <td>3</td>\n",
       "    </tr>\n",
       "    <tr>\n",
       "      <th>73857</th>\n",
       "      <td>1</td>\n",
       "      <td>1</td>\n",
       "      <td>1</td>\n",
       "      <td>1</td>\n",
       "      <td>4</td>\n",
       "      <td>[1 1 1 1]</td>\n",
       "      <td>3</td>\n",
       "    </tr>\n",
       "    <tr>\n",
       "      <th>92561</th>\n",
       "      <td>1</td>\n",
       "      <td>1</td>\n",
       "      <td>1</td>\n",
       "      <td>1</td>\n",
       "      <td>4</td>\n",
       "      <td>[1 1 1 1]</td>\n",
       "      <td>3</td>\n",
       "    </tr>\n",
       "    <tr>\n",
       "      <th>49317</th>\n",
       "      <td>1</td>\n",
       "      <td>1</td>\n",
       "      <td>1</td>\n",
       "      <td>1</td>\n",
       "      <td>4</td>\n",
       "      <td>[1 1 1 1]</td>\n",
       "      <td>3</td>\n",
       "    </tr>\n",
       "    <tr>\n",
       "      <th>...</th>\n",
       "      <td>...</td>\n",
       "      <td>...</td>\n",
       "      <td>...</td>\n",
       "      <td>...</td>\n",
       "      <td>...</td>\n",
       "      <td>...</td>\n",
       "      <td>...</td>\n",
       "    </tr>\n",
       "    <tr>\n",
       "      <th>83459</th>\n",
       "      <td>1</td>\n",
       "      <td>100</td>\n",
       "      <td>1</td>\n",
       "      <td>100</td>\n",
       "      <td>202</td>\n",
       "      <td>[  1 100   1 100]</td>\n",
       "      <td>19</td>\n",
       "    </tr>\n",
       "    <tr>\n",
       "      <th>68572</th>\n",
       "      <td>100</td>\n",
       "      <td>100</td>\n",
       "      <td>1</td>\n",
       "      <td>1</td>\n",
       "      <td>202</td>\n",
       "      <td>[100 100   1   1]</td>\n",
       "      <td>21</td>\n",
       "    </tr>\n",
       "    <tr>\n",
       "      <th>48858</th>\n",
       "      <td>100</td>\n",
       "      <td>1</td>\n",
       "      <td>100</td>\n",
       "      <td>100</td>\n",
       "      <td>301</td>\n",
       "      <td>[100   1 100 100]</td>\n",
       "      <td>11</td>\n",
       "    </tr>\n",
       "    <tr>\n",
       "      <th>54889</th>\n",
       "      <td>1</td>\n",
       "      <td>100</td>\n",
       "      <td>100</td>\n",
       "      <td>100</td>\n",
       "      <td>301</td>\n",
       "      <td>[  1 100 100 100]</td>\n",
       "      <td>18</td>\n",
       "    </tr>\n",
       "    <tr>\n",
       "      <th>49201</th>\n",
       "      <td>1</td>\n",
       "      <td>100</td>\n",
       "      <td>100</td>\n",
       "      <td>100</td>\n",
       "      <td>301</td>\n",
       "      <td>[  1 100 100 100]</td>\n",
       "      <td>18</td>\n",
       "    </tr>\n",
       "  </tbody>\n",
       "</table>\n",
       "<p>677 rows × 7 columns</p>\n",
       "</div>"
      ],
      "text/plain": [
       "         0    1    2    3  sum               type  ord\n",
       "id                                                    \n",
       "88565    1    1    1    1    4          [1 1 1 1]    3\n",
       "51688    1    1    1    1    4          [1 1 1 1]    3\n",
       "73857    1    1    1    1    4          [1 1 1 1]    3\n",
       "92561    1    1    1    1    4          [1 1 1 1]    3\n",
       "49317    1    1    1    1    4          [1 1 1 1]    3\n",
       "...    ...  ...  ...  ...  ...                ...  ...\n",
       "83459    1  100    1  100  202  [  1 100   1 100]   19\n",
       "68572  100  100    1    1  202  [100 100   1   1]   21\n",
       "48858  100    1  100  100  301  [100   1 100 100]   11\n",
       "54889    1  100  100  100  301  [  1 100 100 100]   18\n",
       "49201    1  100  100  100  301  [  1 100 100 100]   18\n",
       "\n",
       "[677 rows x 7 columns]"
      ]
     },
     "execution_count": 797,
     "metadata": {},
     "output_type": "execute_result"
    }
   ],
   "source": [
    "df_comp"
   ]
  },
  {
   "cell_type": "code",
   "execution_count": 806,
   "metadata": {},
   "outputs": [
    {
     "data": {
      "text/plain": [
       "<matplotlib.image.AxesImage at 0x132059929d0>"
      ]
     },
     "execution_count": 806,
     "metadata": {},
     "output_type": "execute_result"
    },
    {
     "data": {
      "image/png": "[encoded data removed]",
      "text/plain": [
       "<Figure size 1800x144 with 1 Axes>"
      ]
     },
     "metadata": {
      "needs_background": "light"
     },
     "output_type": "display_data"
    }
   ],
   "source": [
    "fig, ax = plt.subplots(1, 1, figsize=(25, 2))\n",
    "ax.imshow(df_comp.loc[X_co.index][[0, 1, 2, 3]].T, interpolation='nearest', aspect='auto', cmap=\"gist_ncar_r\")"
   ]
  },
  {
   "cell_type": "markdown",
   "metadata": {},
   "source": [
    "0: bloom, \n",
    "1: bloomz, \n",
    "2: gpt-3, \n",
    "3: youchat"
   ]
  },
  {
   "cell_type": "markdown",
   "metadata": {},
   "source": [
    "rojo: TN\n",
    "azul: TP\n",
    "celeste: FP\n",
    "naranjo: FN"
   ]
  },
  {
   "cell_type": "code",
   "execution_count": 809,
   "metadata": {},
   "outputs": [
    {
     "data": {
      "text/html": [
       "<div>\n",
       "<style scoped>\n",
       "    .dataframe tbody tr th:only-of-type {\n",
       "        vertical-align: middle;\n",
       "    }\n",
       "\n",
       "    .dataframe tbody tr th {\n",
       "        vertical-align: top;\n",
       "    }\n",
       "\n",
       "    .dataframe thead th {\n",
       "        text-align: right;\n",
       "    }\n",
       "</style>\n",
       "<table border=\"1\" class=\"dataframe\">\n",
       "  <thead>\n",
       "    <tr style=\"text-align: right;\">\n",
       "      <th></th>\n",
       "      <th>gpt-label</th>\n",
       "      <th>label</th>\n",
       "      <th>Q_id</th>\n",
       "      <th>Q</th>\n",
       "      <th>A</th>\n",
       "    </tr>\n",
       "    <tr>\n",
       "      <th>id</th>\n",
       "      <th></th>\n",
       "      <th></th>\n",
       "      <th></th>\n",
       "      <th></th>\n",
       "      <th></th>\n",
       "    </tr>\n",
       "  </thead>\n",
       "  <tbody>\n",
       "    <tr>\n",
       "      <th>92561</th>\n",
       "      <td>1</td>\n",
       "      <td>1</td>\n",
       "      <td>4959</td>\n",
       "      <td>Agustín desea guardar unos dados de 1 cm cúbic...</td>\n",
       "      <td>,</td>\n",
       "    </tr>\n",
       "    <tr>\n",
       "      <th>92664</th>\n",
       "      <td>1</td>\n",
       "      <td>1</td>\n",
       "      <td>4965</td>\n",
       "      <td>Agustín desea guardar unos dados de 1 cm cúbic...</td>\n",
       "      <td>,</td>\n",
       "    </tr>\n",
       "    <tr>\n",
       "      <th>90671</th>\n",
       "      <td>1</td>\n",
       "      <td>1</td>\n",
       "      <td>4844</td>\n",
       "      <td>Carolina debe leer a lo más 15 páginas de un l...</td>\n",
       "      <td>y\\n                                           ...</td>\n",
       "    </tr>\n",
       "    <tr>\n",
       "      <th>87338</th>\n",
       "      <td>1</td>\n",
       "      <td>1</td>\n",
       "      <td>4666</td>\n",
       "      <td>El agricultor Braulio distribuye su cosecha de...</td>\n",
       "      <td>nose</td>\n",
       "    </tr>\n",
       "    <tr>\n",
       "      <th>75650</th>\n",
       "      <td>1</td>\n",
       "      <td>1</td>\n",
       "      <td>4049</td>\n",
       "      <td>Amanda compró 2 chocolates a $135 cada uno y u...</td>\n",
       "      <td>no se</td>\n",
       "    </tr>\n",
       "    <tr>\n",
       "      <th>...</th>\n",
       "      <td>...</td>\n",
       "      <td>...</td>\n",
       "      <td>...</td>\n",
       "      <td>...</td>\n",
       "      <td>...</td>\n",
       "    </tr>\n",
       "    <tr>\n",
       "      <th>68213</th>\n",
       "      <td>1</td>\n",
       "      <td>1</td>\n",
       "      <td>3707</td>\n",
       "      <td>Pedro puso 70 vasos plásticos en una bandeja,...</td>\n",
       "      <td>alludeme tio porfabor tio pablo</td>\n",
       "    </tr>\n",
       "    <tr>\n",
       "      <th>82873</th>\n",
       "      <td>0</td>\n",
       "      <td>1</td>\n",
       "      <td>4420</td>\n",
       "      <td>Alonso comió 2/7 de un chocolate. Éste dice qu...</td>\n",
       "      <td>7/5</td>\n",
       "    </tr>\n",
       "    <tr>\n",
       "      <th>68164</th>\n",
       "      <td>0</td>\n",
       "      <td>1</td>\n",
       "      <td>3701</td>\n",
       "      <td>Alejandra ha trabajado en conectaideas 3 días ...</td>\n",
       "      <td>Tía la respuesta es  363☺😊☺😊☺😊</td>\n",
       "    </tr>\n",
       "    <tr>\n",
       "      <th>68572</th>\n",
       "      <td>1</td>\n",
       "      <td>1</td>\n",
       "      <td>3728</td>\n",
       "      <td>Adrián tiene 20 pelotas de tenis las quiere re...</td>\n",
       "      <td>4</td>\n",
       "    </tr>\n",
       "    <tr>\n",
       "      <th>54889</th>\n",
       "      <td>0</td>\n",
       "      <td>1</td>\n",
       "      <td>3118</td>\n",
       "      <td>Sí Tengo 24 huevitos de chocolate y mi herman...</td>\n",
       "      <td>2 DECENA Y 4 UNIDADES</td>\n",
       "    </tr>\n",
       "  </tbody>\n",
       "</table>\n",
       "<p>212 rows × 5 columns</p>\n",
       "</div>"
      ],
      "text/plain": [
       "       gpt-label  label  Q_id  \\\n",
       "id                              \n",
       "92561          1      1  4959   \n",
       "92664          1      1  4965   \n",
       "90671          1      1  4844   \n",
       "87338          1      1  4666   \n",
       "75650          1      1  4049   \n",
       "...          ...    ...   ...   \n",
       "68213          1      1  3707   \n",
       "82873          0      1  4420   \n",
       "68164          0      1  3701   \n",
       "68572          1      1  3728   \n",
       "54889          0      1  3118   \n",
       "\n",
       "                                                       Q  \\\n",
       "id                                                         \n",
       "92561  Agustín desea guardar unos dados de 1 cm cúbic...   \n",
       "92664  Agustín desea guardar unos dados de 1 cm cúbic...   \n",
       "90671  Carolina debe leer a lo más 15 páginas de un l...   \n",
       "87338  El agricultor Braulio distribuye su cosecha de...   \n",
       "75650  Amanda compró 2 chocolates a $135 cada uno y u...   \n",
       "...                                                  ...   \n",
       "68213   Pedro puso 70 vasos plásticos en una bandeja,...   \n",
       "82873  Alonso comió 2/7 de un chocolate. Éste dice qu...   \n",
       "68164  Alejandra ha trabajado en conectaideas 3 días ...   \n",
       "68572  Adrián tiene 20 pelotas de tenis las quiere re...   \n",
       "54889   Sí Tengo 24 huevitos de chocolate y mi herman...   \n",
       "\n",
       "                                                       A  \n",
       "id                                                        \n",
       "92561                                                  ,  \n",
       "92664                                                  ,  \n",
       "90671  y\\n                                           ...  \n",
       "87338                                               nose  \n",
       "75650                                              no se  \n",
       "...                                                  ...  \n",
       "68213                    alludeme tio porfabor tio pablo  \n",
       "82873                                                7/5  \n",
       "68164                     Tía la respuesta es  363☺😊☺😊☺😊  \n",
       "68572                                                  4  \n",
       "54889                             2 DECENA Y 4 UNIDADES   \n",
       "\n",
       "[212 rows x 5 columns]"
      ]
     },
     "execution_count": 809,
     "metadata": {},
     "output_type": "execute_result"
    }
   ],
   "source": [
    "X_raw = preds['gpt_label_v7.xlsx'].loc[df_comp.index][\"gpt-label label Q_id Q A\".split()]\n",
    "X_co = X_raw[X_raw[\"Q\"].apply(lambda x: \"correcto\" in x)]\n",
    "X_co"
   ]
  },
  {
   "cell_type": "code",
   "execution_count": 834,
   "metadata": {},
   "outputs": [
    {
     "data": {
      "text/plain": [
       "4035    4\n",
       "4026    3\n",
       "4054    3\n",
       "4420    2\n",
       "3109    2\n",
       "3118    2\n",
       "4837    2\n",
       "3995    2\n",
       "5044    2\n",
       "4844    2\n",
       "4403    2\n",
       "4810    2\n",
       "3742    1\n",
       "4495    1\n",
       "4397    1\n",
       "4496    1\n",
       "4551    1\n",
       "3899    1\n",
       "5087    1\n",
       "3730    1\n",
       "3282    1\n",
       "4959    1\n",
       "4487    1\n",
       "3941    1\n",
       "4828    1\n",
       "3460    1\n",
       "4818    1\n",
       "4649    1\n",
       "4531    1\n",
       "4839    1\n",
       "4787    1\n",
       "4790    1\n",
       "3982    1\n",
       "4591    1\n",
       "4926    1\n",
       "4509    1\n",
       "3943    1\n",
       "4001    1\n",
       "4049    1\n",
       "4955    1\n",
       "4807    1\n",
       "4056    1\n",
       "4133    1\n",
       "3917    1\n",
       "3478    1\n",
       "3409    1\n",
       "4690    1\n",
       "4431    1\n",
       "3701    1\n",
       "Name: Q_id, dtype: int64"
      ]
     },
     "execution_count": 834,
     "metadata": {},
     "output_type": "execute_result"
    }
   ],
   "source": [
    "X_co[X_co[\"gpt-label\"] != X_co[\"label\"]][\"Q_id\"].value_counts()"
   ]
  },
  {
   "cell_type": "code",
   "execution_count": 892,
   "metadata": {},
   "outputs": [
    {
     "data": {
      "text/plain": [
       "'esta mal por es 520'"
      ]
     },
     "execution_count": 892,
     "metadata": {},
     "output_type": "execute_result"
    }
   ],
   "source": [
    "X_co[X_co[\"Q_id\"] == 4035].iloc[-1][\"A\"]"
   ]
  },
  {
   "cell_type": "code",
   "execution_count": 812,
   "metadata": {},
   "outputs": [],
   "source": [
    "descr = {\n",
    "    4959: 0 # len<2 entonces 1\n",
    "}"
   ]
  },
  {
   "cell_type": "code",
   "execution_count": 253,
   "metadata": {},
   "outputs": [
    {
     "data": {
      "text/html": [
       "<div>\n",
       "<style scoped>\n",
       "    .dataframe tbody tr th:only-of-type {\n",
       "        vertical-align: middle;\n",
       "    }\n",
       "\n",
       "    .dataframe tbody tr th {\n",
       "        vertical-align: top;\n",
       "    }\n",
       "\n",
       "    .dataframe thead th {\n",
       "        text-align: right;\n",
       "    }\n",
       "</style>\n",
       "<table border=\"1\" class=\"dataframe\">\n",
       "  <thead>\n",
       "    <tr style=\"text-align: right;\">\n",
       "      <th></th>\n",
       "      <th>Q_id</th>\n",
       "      <th>Q</th>\n",
       "      <th>A</th>\n",
       "      <th>label</th>\n",
       "      <th>TM</th>\n",
       "    </tr>\n",
       "    <tr>\n",
       "      <th>id</th>\n",
       "      <th></th>\n",
       "      <th></th>\n",
       "      <th></th>\n",
       "      <th></th>\n",
       "      <th></th>\n",
       "    </tr>\n",
       "  </thead>\n",
       "  <tbody>\n",
       "    <tr>\n",
       "      <th>85815</th>\n",
       "      <td>4581</td>\n",
       "      <td>¿Qué aprendiste de la actividad  del viernes?</td>\n",
       "      <td>ha ver las cajas porque las cajas chicas eran ...</td>\n",
       "      <td>0</td>\n",
       "      <td>haber las cajas porque las cajas chicas eran l...</td>\n",
       "    </tr>\n",
       "    <tr>\n",
       "      <th>64812</th>\n",
       "      <td>3535</td>\n",
       "      <td>¿Cómo creen ustedes que se reproducen las célu...</td>\n",
       "      <td>El proceso de división de una célula en dos cé...</td>\n",
       "      <td>0</td>\n",
       "      <td>el proceso de division de una celula en dos ce...</td>\n",
       "    </tr>\n",
       "    <tr>\n",
       "      <th>84148</th>\n",
       "      <td>4491</td>\n",
       "      <td>¿ Qué frase para mejorar le darías tú a un am...</td>\n",
       "      <td>debes practicar los ejerccios</td>\n",
       "      <td>0</td>\n",
       "      <td>debes practicar los ejerccios</td>\n",
       "    </tr>\n",
       "    <tr>\n",
       "      <th>88565</th>\n",
       "      <td>4734</td>\n",
       "      <td>¿Qué aprendiste en la actividad del día viernes?</td>\n",
       "      <td>Nose porque no fui. A donde fueron ustedes😛😛😛😛😜</td>\n",
       "      <td>1</td>\n",
       "      <td>no se porque no fui . a donde fueron ustedes</td>\n",
       "    </tr>\n",
       "    <tr>\n",
       "      <th>51688</th>\n",
       "      <td>2944</td>\n",
       "      <td>Diego compró 2 sopaipillas a $120 cada una. Pa...</td>\n",
       "      <td>las   sopaipillas</td>\n",
       "      <td>1</td>\n",
       "      <td>las sopaipillas</td>\n",
       "    </tr>\n",
       "    <tr>\n",
       "      <th>...</th>\n",
       "      <td>...</td>\n",
       "      <td>...</td>\n",
       "      <td>...</td>\n",
       "      <td>...</td>\n",
       "      <td>...</td>\n",
       "    </tr>\n",
       "    <tr>\n",
       "      <th>54685</th>\n",
       "      <td>3109</td>\n",
       "      <td>Lorena dice que al multiplicar 3x0 le da como...</td>\n",
       "      <td>estamal poreque es 0</td>\n",
       "      <td>0</td>\n",
       "      <td>esta mal porqué es 0</td>\n",
       "    </tr>\n",
       "    <tr>\n",
       "      <th>87324</th>\n",
       "      <td>4665</td>\n",
       "      <td>Alicia comió 2/9 de un chocolate. Ella dice qu...</td>\n",
       "      <td>esta mal Alicia  por que la cantidad es 7/8 de...</td>\n",
       "      <td>0</td>\n",
       "      <td>esta mal alicia por que la cantidad es 7 / 8 d...</td>\n",
       "    </tr>\n",
       "    <tr>\n",
       "      <th>73798</th>\n",
       "      <td>3946</td>\n",
       "      <td>El cuarto básico visitará el zoológico. Si son...</td>\n",
       "      <td>nose\\n</td>\n",
       "      <td>1</td>\n",
       "      <td>no se</td>\n",
       "    </tr>\n",
       "    <tr>\n",
       "      <th>95242</th>\n",
       "      <td>5093</td>\n",
       "      <td>Durante la sesión de conecta ideas María Jesús...</td>\n",
       "      <td>es correcto, porque yo lo \\nmultiplique por 4...</td>\n",
       "      <td>0</td>\n",
       "      <td>es correcto , porque yo lo multiplique por 4 l...</td>\n",
       "    </tr>\n",
       "    <tr>\n",
       "      <th>84226</th>\n",
       "      <td>4495</td>\n",
       "      <td>Amanda compró 2 chocolates a $135 cada uno y u...</td>\n",
       "      <td>no esta mal por que pago con mil pesos</td>\n",
       "      <td>0</td>\n",
       "      <td>no esta mal por que pago con mil pesos</td>\n",
       "    </tr>\n",
       "  </tbody>\n",
       "</table>\n",
       "<p>677 rows × 5 columns</p>\n",
       "</div>"
      ],
      "text/plain": [
       "       Q_id                                                  Q  \\\n",
       "id                                                               \n",
       "85815  4581      ¿Qué aprendiste de la actividad  del viernes?   \n",
       "64812  3535  ¿Cómo creen ustedes que se reproducen las célu...   \n",
       "84148  4491   ¿ Qué frase para mejorar le darías tú a un am...   \n",
       "88565  4734   ¿Qué aprendiste en la actividad del día viernes?   \n",
       "51688  2944  Diego compró 2 sopaipillas a $120 cada una. Pa...   \n",
       "...     ...                                                ...   \n",
       "54685  3109   Lorena dice que al multiplicar 3x0 le da como...   \n",
       "87324  4665  Alicia comió 2/9 de un chocolate. Ella dice qu...   \n",
       "73798  3946  El cuarto básico visitará el zoológico. Si son...   \n",
       "95242  5093  Durante la sesión de conecta ideas María Jesús...   \n",
       "84226  4495  Amanda compró 2 chocolates a $135 cada uno y u...   \n",
       "\n",
       "                                                       A  label  \\\n",
       "id                                                                \n",
       "85815  ha ver las cajas porque las cajas chicas eran ...      0   \n",
       "64812  El proceso de división de una célula en dos cé...      0   \n",
       "84148                      debes practicar los ejerccios      0   \n",
       "88565    Nose porque no fui. A donde fueron ustedes😛😛😛😛😜      1   \n",
       "51688                                  las   sopaipillas      1   \n",
       "...                                                  ...    ...   \n",
       "54685                               estamal poreque es 0      0   \n",
       "87324  esta mal Alicia  por que la cantidad es 7/8 de...      0   \n",
       "73798                                             nose\\n      1   \n",
       "95242   es correcto, porque yo lo \\nmultiplique por 4...      0   \n",
       "84226            no esta mal por que pago con mil pesos       0   \n",
       "\n",
       "                                                      TM  \n",
       "id                                                        \n",
       "85815  haber las cajas porque las cajas chicas eran l...  \n",
       "64812  el proceso de division de una celula en dos ce...  \n",
       "84148                      debes practicar los ejerccios  \n",
       "88565       no se porque no fui . a donde fueron ustedes  \n",
       "51688                                    las sopaipillas  \n",
       "...                                                  ...  \n",
       "54685                               esta mal porqué es 0  \n",
       "87324  esta mal alicia por que la cantidad es 7 / 8 d...  \n",
       "73798                                              no se  \n",
       "95242  es correcto , porque yo lo multiplique por 4 l...  \n",
       "84226             no esta mal por que pago con mil pesos  \n",
       "\n",
       "[677 rows x 5 columns]"
      ]
     },
     "execution_count": 253,
     "metadata": {},
     "output_type": "execute_result"
    }
   ],
   "source": [
    "seg = pd.read_excel(\"seg_TM_test_v1.xlsx\", index_col=0).set_index(\"id\")\n",
    "seg"
   ]
  },
  {
   "cell_type": "code",
   "execution_count": 254,
   "metadata": {},
   "outputs": [],
   "source": [
    "import Levenshtein as lv"
   ]
  },
  {
   "cell_type": "code",
   "execution_count": 265,
   "metadata": {},
   "outputs": [],
   "source": [
    "seg[\"lev\"] = seg.apply(lambda x: lv.distance(x[\"A\"], x[\"TM\"])/lv.distance(x[\"A\"], \"\"), axis=1)"
   ]
  },
  {
   "cell_type": "code",
   "execution_count": 10,
   "metadata": {},
   "outputs": [
    {
     "data": {
      "text/plain": [
       "dict_keys(['bloom_label_v1.xlsx', 'bloomz_label_v3.xlsx', 'gpt_label_v7.xlsx', 'youchat.xlsx'])"
      ]
     },
     "execution_count": 10,
     "metadata": {},
     "output_type": "execute_result"
    }
   ],
   "source": [
    "preds.keys()"
   ]
  },
  {
   "cell_type": "code",
   "execution_count": 901,
   "metadata": {},
   "outputs": [
    {
     "data": {
      "text/plain": [
       "<matplotlib.image.AxesImage at 0x132059f5070>"
      ]
     },
     "execution_count": 901,
     "metadata": {},
     "output_type": "execute_result"
    },
    {
     "data": {
      "image/png": "[encoded data removed]",
      "text/plain": [
       "<Figure size 1800x144 with 1 Axes>"
      ]
     },
     "metadata": {
      "needs_background": "light"
     },
     "output_type": "display_data"
    }
   ],
   "source": [
    "fig, ax = plt.subplots(1, 1, figsize=(25, 2))\n",
    "ax.imshow(df_comp[[0, 1, 2, 3]].T, interpolation='nearest', aspect='auto', cmap=\"gist_ncar_r\")"
   ]
  },
  {
   "cell_type": "code",
   "execution_count": 965,
   "metadata": {},
   "outputs": [
    {
     "data": {
      "text/plain": [
       "array([1, 0,\n",
       "       'Andrea y Pedro fueron a comprar al supermercado comida para sus mascotas, Andrea salio a las 14:30 y regreso a su casa a las 15:15 y Predro salio a las 13:45 y regreso a la misma hora que Andrea. ¿Cuanto demoro Andrea en hacer las compras?¿Cuanto demoro Pedro en hacer las compras? Explica con tus palabras como llegaste al resultado',\n",
       "       'Pedro.  Se. Demoro.  90.  Minutos.  Y.  Andrea.  45. Minutos.   Lo.  Ise.  Con.  Suma'],\n",
       "      dtype=object)"
      ]
     },
     "execution_count": 965,
     "metadata": {},
     "output_type": "execute_result"
    }
   ],
   "source": [
    "preds['gpt_label_v7.xlsx'].loc[df_comp.index][\"gpt-label label Q A\".split()].values[499]"
   ]
  },
  {
   "cell_type": "code",
   "execution_count": 978,
   "metadata": {},
   "outputs": [
    {
     "data": {
      "text/html": [
       "<div>\n",
       "<style scoped>\n",
       "    .dataframe tbody tr th:only-of-type {\n",
       "        vertical-align: middle;\n",
       "    }\n",
       "\n",
       "    .dataframe tbody tr th {\n",
       "        vertical-align: top;\n",
       "    }\n",
       "\n",
       "    .dataframe thead th {\n",
       "        text-align: right;\n",
       "    }\n",
       "</style>\n",
       "<table border=\"1\" class=\"dataframe\">\n",
       "  <thead>\n",
       "    <tr style=\"text-align: right;\">\n",
       "      <th></th>\n",
       "      <th>label_beto:mt</th>\n",
       "    </tr>\n",
       "    <tr>\n",
       "      <th>respuesta_id</th>\n",
       "      <th></th>\n",
       "    </tr>\n",
       "  </thead>\n",
       "  <tbody>\n",
       "    <tr>\n",
       "      <th>51894.0</th>\n",
       "      <td>1</td>\n",
       "    </tr>\n",
       "    <tr>\n",
       "      <th>51918.0</th>\n",
       "      <td>1</td>\n",
       "    </tr>\n",
       "    <tr>\n",
       "      <th>51909.0</th>\n",
       "      <td>0</td>\n",
       "    </tr>\n",
       "    <tr>\n",
       "      <th>51897.0</th>\n",
       "      <td>0</td>\n",
       "    </tr>\n",
       "    <tr>\n",
       "      <th>51892.0</th>\n",
       "      <td>0</td>\n",
       "    </tr>\n",
       "    <tr>\n",
       "      <th>...</th>\n",
       "      <td>...</td>\n",
       "    </tr>\n",
       "    <tr>\n",
       "      <th>96198.0</th>\n",
       "      <td>0</td>\n",
       "    </tr>\n",
       "    <tr>\n",
       "      <th>96195.0</th>\n",
       "      <td>0</td>\n",
       "    </tr>\n",
       "    <tr>\n",
       "      <th>96196.0</th>\n",
       "      <td>0</td>\n",
       "    </tr>\n",
       "    <tr>\n",
       "      <th>96219.0</th>\n",
       "      <td>0</td>\n",
       "    </tr>\n",
       "    <tr>\n",
       "      <th>96200.0</th>\n",
       "      <td>0</td>\n",
       "    </tr>\n",
       "  </tbody>\n",
       "</table>\n",
       "<p>28007 rows × 1 columns</p>\n",
       "</div>"
      ],
      "text/plain": [
       "              label_beto:mt\n",
       "respuesta_id               \n",
       "51894.0                   1\n",
       "51918.0                   1\n",
       "51909.0                   0\n",
       "51897.0                   0\n",
       "51892.0                   0\n",
       "...                     ...\n",
       "96198.0                   0\n",
       "96195.0                   0\n",
       "96196.0                   0\n",
       "96219.0                   0\n",
       "96200.0                   0\n",
       "\n",
       "[28007 rows x 1 columns]"
      ]
     },
     "execution_count": 978,
     "metadata": {},
     "output_type": "execute_result"
    }
   ],
   "source": [
    "best_beto = pickle.load(open(\"D:/Untitled Folder/df_2017_pred_beto_mt.pickle\", \"rb\"))\n",
    "best_beto = best_beto[\"label_beto:mt respuesta_id\".split()].set_index(\"respuesta_id\")\n",
    "best_beto"
   ]
  },
  {
   "cell_type": "code",
   "execution_count": 984,
   "metadata": {},
   "outputs": [],
   "source": [
    "o = preds['gpt_label_v7.xlsx'].loc[df_comp.index].copy()\n",
    "o[\"beto-label\"] = best_beto.loc[o.index]\n",
    "o.to_excel(\"D:/github/coherence-prediction/beto_label_v7_comp_v2.xlsx\")"
   ]
  },
  {
   "cell_type": "code",
   "execution_count": 13,
   "metadata": {},
   "outputs": [
    {
     "name": "stdout",
     "output_type": "stream",
     "text": [
      "Requirement already satisfied: scikit-learn in c:\\users\\felip\\anaconda3\\lib\\site-packages (1.2.1)\n",
      "Requirement already satisfied: joblib>=1.1.1 in c:\\users\\felip\\anaconda3\\lib\\site-packages (from scikit-learn) (1.2.0)\n",
      "Requirement already satisfied: numpy>=1.17.3 in c:\\users\\felip\\anaconda3\\lib\\site-packages (from scikit-learn) (1.20.3)\n",
      "Requirement already satisfied: threadpoolctl>=2.0.0 in c:\\users\\felip\\anaconda3\\lib\\site-packages (from scikit-learn) (2.2.0)\n",
      "Requirement already satisfied: scipy>=1.3.2 in c:\\users\\felip\\anaconda3\\lib\\site-packages (from scikit-learn) (1.6.2)\n"
     ]
    }
   ],
   "source": [
    "!pip install -U scikit-learn"
   ]
  },
  {
   "cell_type": "code",
   "execution_count": 15,
   "metadata": {},
   "outputs": [
    {
     "name": "stdout",
     "output_type": "stream",
     "text": [
      "Requirement already satisfied: scikit-learn in c:\\users\\felip\\anaconda3\\lib\\site-packages (1.2.1)\n",
      "Requirement already satisfied: threadpoolctl>=2.0.0 in c:\\users\\felip\\anaconda3\\lib\\site-packages (from scikit-learn) (2.2.0)\n",
      "Requirement already satisfied: numpy>=1.17.3 in c:\\users\\felip\\anaconda3\\lib\\site-packages (from scikit-learn) (1.20.3)\n",
      "Requirement already satisfied: joblib>=1.1.1 in c:\\users\\felip\\anaconda3\\lib\\site-packages (from scikit-learn) (1.2.0)\n",
      "Requirement already satisfied: scipy>=1.3.2 in c:\\users\\felip\\anaconda3\\lib\\site-packages (from scikit-learn) (1.6.2)\n"
     ]
    }
   ],
   "source": [
    "!pip install --upgrade scikit-learn"
   ]
  },
  {
   "cell_type": "code",
   "execution_count": 19,
   "metadata": {},
   "outputs": [],
   "source": [
    "from sklearn.feature_extraction.text import TfidfVectorizer\n",
    "from sklearn.pipeline import Pipeline\n",
    "from sklearn.naive_bayes import MultinomialNB\n",
    "from sklearn.linear_model import LogisticRegression\n",
    "# from sklearn.metrics import plot_confusion_matrix\n",
    "import numpy as np\n",
    "from sklearn.model_selection import train_test_split\n",
    "\n",
    "from sklearn.feature_extraction.text import CountVectorizer\n",
    "from sklearn.pipeline import Pipeline\n",
    "from sklearn.naive_bayes import MultinomialNB\n",
    "from sklearn.feature_extraction.text import TfidfTransformer\n",
    "from sklearn.metrics import classification_report"
   ]
  },
  {
   "cell_type": "code",
   "execution_count": 20,
   "metadata": {},
   "outputs": [],
   "source": [
    "from unidecode import unidecode"
   ]
  },
  {
   "cell_type": "code",
   "execution_count": 539,
   "metadata": {},
   "outputs": [
    {
     "data": {
      "text/plain": [
       "dict_keys(['bloom_label_v1.xlsx', 'bloomz_label_v3.xlsx', 'gpt_label_v7.xlsx', 'youchat.xlsx'])"
      ]
     },
     "execution_count": 539,
     "metadata": {},
     "output_type": "execute_result"
    }
   ],
   "source": [
    "preds.keys()"
   ]
  },
  {
   "cell_type": "code",
   "execution_count": 772,
   "metadata": {},
   "outputs": [
    {
     "name": "stderr",
     "output_type": "stream",
     "text": [
      "<ipython-input-772-fc293a8289e0>:4: SettingWithCopyWarning: \n",
      "A value is trying to be set on a copy of a slice from a DataFrame.\n",
      "Try using .loc[row_indexer,col_indexer] = value instead\n",
      "\n",
      "See the caveats in the documentation: https://pandas.pydata.org/pandas-docs/stable/user_guide/indexing.html#returning-a-view-versus-a-copy\n",
      "  X_data[\"Q\"] = X_data[\"Q\"].apply(lambda x: unidecode(str(x)))\n",
      "<ipython-input-772-fc293a8289e0>:5: SettingWithCopyWarning: \n",
      "A value is trying to be set on a copy of a slice from a DataFrame.\n",
      "Try using .loc[row_indexer,col_indexer] = value instead\n",
      "\n",
      "See the caveats in the documentation: https://pandas.pydata.org/pandas-docs/stable/user_guide/indexing.html#returning-a-view-versus-a-copy\n",
      "  X_data[\"A\"] = X_data[\"A\"].apply(lambda x: unidecode(str(x).replace(\"\\n\", \"\")))\n"
     ]
    }
   ],
   "source": [
    "X_raw = preds['gpt_label_v7.xlsx'].loc[df_comp.index][\"gpt-label label Q A\".split()]\n",
    "X_raw[\"eq\"] = ((df_comp[2] == 25)).apply(int)\n",
    "X_data = X_raw[\"Q A\".split()]\n",
    "X_data[\"Q\"] = X_data[\"Q\"].apply(lambda x: unidecode(str(x)))\n",
    "X_data[\"A\"] = X_data[\"A\"].apply(lambda x: unidecode(str(x).replace(\"\\n\", \"\")))\n",
    "y_data = X_raw[\"eq\"]"
   ]
  },
  {
   "cell_type": "code",
   "execution_count": 773,
   "metadata": {},
   "outputs": [],
   "source": [
    "from nltk.corpus import stopwords\n",
    "from nltk import word_tokenize\n",
    "import string\n",
    "\n",
    "from nltk.stem import SnowballStemmer\n",
    "spanish_stemmer = SnowballStemmer('spanish')"
   ]
  },
  {
   "cell_type": "code",
   "execution_count": 774,
   "metadata": {},
   "outputs": [],
   "source": [
    "class LemmaTokenizer(object):\n",
    "    def __call__(self, text):\n",
    "        return [t for t in word_tokenize(text) if t not in string.punctuation and t.isalpha() and t not in \n",
    "                [\"agolo\", \"recibio\", \"que\", \"y\", \"le\", \"con\", \"al\", \"manzanas\", \"a\", \"de\", \"por\", \"sus\", \"mas\", \"en\", \"moneda\"]]"
   ]
  },
  {
   "cell_type": "code",
   "execution_count": 775,
   "metadata": {},
   "outputs": [
    {
     "data": {
      "text/plain": [
       "(677, 1216)"
      ]
     },
     "execution_count": 775,
     "metadata": {},
     "output_type": "execute_result"
    }
   ],
   "source": [
    "np.array(X_a.todense()).shape"
   ]
  },
  {
   "cell_type": "code",
   "execution_count": 776,
   "metadata": {},
   "outputs": [
    {
     "name": "stderr",
     "output_type": "stream",
     "text": [
      "C:\\Users\\felip\\anaconda3\\lib\\site-packages\\sklearn\\feature_extraction\\text.py:528: UserWarning: The parameter 'token_pattern' will not be used since 'tokenizer' is not None'\n",
      "  warnings.warn(\n"
     ]
    }
   ],
   "source": [
    "q_vect = CountVectorizer(min_df=5, lowercase=True, ngram_range=(1, 1), tokenizer=LemmaTokenizer())\n",
    "a_vect = CountVectorizer(lowercase=True, ngram_range=(1, 1), tokenizer=LemmaTokenizer())    \n",
    "\n",
    "X_q = q_vect.fit_transform(X_data[\"Q\"])\n",
    "X_a = a_vect.fit_transform(X_data[\"A\"])\n",
    "lenA = np.array([[len(a)] for a in X_data[\"A\"]]).reshape(-1,1)\n",
    "lenQ = np.array([[len(a)] for a in X_data[\"Q\"]]).reshape(-1,1)\n",
    "\n",
    "X_bow = np.hstack([np.array(X_q.todense()), np.array(X_a.todense()), np.array(seg[[\"lev\"]].values), lenA, lenQ, np.array(ex0.reset_index()[[\"Q\"]].values), np.array(ex1.reset_index()[[\"Q\"]].values)])"
   ]
  },
  {
   "cell_type": "code",
   "execution_count": 777,
   "metadata": {},
   "outputs": [],
   "source": [
    "X_train, X_test, y_train, y_test = train_test_split(X_bow, y_data, stratify=y_data, test_size=.1, random_state=42)"
   ]
  },
  {
   "cell_type": "code",
   "execution_count": 778,
   "metadata": {},
   "outputs": [
    {
     "data": {
      "text/plain": [
       "(0.8587848932676518, 0.8088235294117647)"
      ]
     },
     "execution_count": 778,
     "metadata": {},
     "output_type": "execute_result"
    }
   ],
   "source": [
    "from sklearn.tree import DecisionTreeClassifier, plot_tree\n",
    "clf = DecisionTreeClassifier(max_depth=5)\n",
    "clf.fit(X_train, y_train)\n",
    "clf.score(X_train, y_train), clf.score(X_test, y_test)"
   ]
  },
  {
   "cell_type": "code",
   "execution_count": 779,
   "metadata": {},
   "outputs": [],
   "source": [
    "feature_names = [f\"Q[{x}]\" for x in list(q_vect.get_feature_names_out())] + [f\"A[{x}]\" for x in list(a_vect.get_feature_names_out())] + [\"lev\", \"lenA\", \"lenQ\", \"ex0\", \"ex1\"]"
   ]
  },
  {
   "cell_type": "code",
   "execution_count": 780,
   "metadata": {},
   "outputs": [
    {
     "data": {
      "image/png": "[encoded data removed]",
      "text/plain": [
       "<Figure size 1080x360 with 1 Axes>"
      ]
     },
     "metadata": {
      "needs_background": "light"
     },
     "output_type": "display_data"
    }
   ],
   "source": [
    "fig, ax = plt.subplots(1,1, figsize=(15, 5))\n",
    "plot_tree(clf, feature_names=feature_names, ax=ax);"
   ]
  },
  {
   "cell_type": "code",
   "execution_count": 781,
   "metadata": {},
   "outputs": [],
   "source": [
    "y_pred = clf.predict(X_bow)"
   ]
  },
  {
   "cell_type": "code",
   "execution_count": 782,
   "metadata": {},
   "outputs": [
    {
     "data": {
      "text/plain": [
       "(677,)"
      ]
     },
     "execution_count": 782,
     "metadata": {},
     "output_type": "execute_result"
    }
   ],
   "source": [
    "X_bow[:, -1].shape"
   ]
  },
  {
   "cell_type": "code",
   "execution_count": 795,
   "metadata": {},
   "outputs": [
    {
     "data": {
      "text/plain": [
       "<matplotlib.image.AxesImage at 0x13207dc3790>"
      ]
     },
     "execution_count": 795,
     "metadata": {},
     "output_type": "execute_result"
    },
    {
     "data": {
      "image/png": "[encoded data removed]",
      "text/plain": [
       "<Figure size 1800x144 with 1 Axes>"
      ]
     },
     "metadata": {
      "needs_background": "light"
     },
     "output_type": "display_data"
    }
   ],
   "source": [
    "fig, ax = plt.subplots(1, 1, figsize=(25, 2))\n",
    "ax.imshow(np.vstack([df_comp[[0, 1, 2, 3]].T.values, 75*y_pred, 40*(X_bow[:, -2])]), interpolation='nearest', aspect='auto', cmap=\"gist_ncar_r\")"
   ]
  },
  {
   "cell_type": "code",
   "execution_count": 990,
   "metadata": {},
   "outputs": [
    {
     "data": {
      "text/plain": [
       "array([0, 0,\n",
       "       'Agustín desea guardar unos dados de 1 cm cúbico en una caja que mide 5 cm de largo, 2 cm de ancho y 2 cm de alto. Su hermano dice que caben en la caja 15 dados.¿Es correcto lo que señala el hermano de Agustín? Explica con tus palabras.',\n",
       "       'esta mal  por caben 20 dados'], dtype=object)"
      ]
     },
     "execution_count": 990,
     "metadata": {},
     "output_type": "execute_result"
    }
   ],
   "source": [
    "preds['gpt_label_v7.xlsx'].loc[df_comp.index][\"gpt-label label Q A\".split()].values[200]"
   ]
  },
  {
   "cell_type": "code",
   "execution_count": 770,
   "metadata": {},
   "outputs": [],
   "source": [
    "q0 = [\n",
    "    'El agricultor Braulio distribuye su cosecha de 35 choclos en 7 camionetas. Un trabajador dijo que en cada camioneta pondrán 4 choclos. ¿Está en lo correcto el trabajador? Explica con tus palabras.',\n",
    "    'Agustín desea guardar unos dados de 1 cm cúbico en una caja que mide 5 cm de largo, 2 cm de ancho y 2 cm de alto. Su hermano dice que caben en la caja 15 dados.¿Es correcto lo que señala el hermano de Agustín? Explica con tus palabras.' ,  \n",
    "]\n",
    "q1 = [\n",
    "    'Amalia compró 1,75 cm de elástico y Antonieta 1,57 cm. Una amiga de ellas les dijo que en total compraron 3 metros de elástico. ¿ Es correcto lo que les dice su amiga? Explica con tus palabras.',\n",
    "    'Pedro y Alberto coleccionan estampillas de distintos países. Pedro tiene 63 y Alberto tiene 14 más que Pedro. Una amiga de ellos les dice que Alberto tiene en total 75 estampillas.¿Qué opinas tú respecto de lo que dice su amiga? ¿Está correcto? Explica con tus palabras.',\n",
    "    'Doña Juanita tiene 3 maceteros y en cada uno plantó 8 flores.Su marido le dijo:\" Juana, en total plantaste 25 flores\". ¿Qué opinas tú respecto a lo que le dijo su marido? Explica con tus palabras.',\n",
    "]\n",
    "q0 = [unidecode(str(x)).lower().strip() for x in q0]\n",
    "q1 = [unidecode(str(x)).lower().strip() for x in q1]\n",
    "ex0 = X_data[\"Q\"].apply(lambda x: str(x).lower().strip()).isin(q0).apply(int)\n",
    "ex1 = X_data[\"Q\"].apply(lambda x: str(x).lower().strip()).isin(q1).apply(int)"
   ]
  },
  {
   "cell_type": "code",
   "execution_count": 771,
   "metadata": {},
   "outputs": [],
   "source": [
    "from sklearn.metrics import confusion_matrix, ConfusionMatrixDisplay"
   ]
  },
  {
   "cell_type": "code",
   "execution_count": 425,
   "metadata": {},
   "outputs": [
    {
     "data": {
      "text/plain": [
       "<sklearn.metrics._plot.confusion_matrix.ConfusionMatrixDisplay at 0x132043e81f0>"
      ]
     },
     "execution_count": 425,
     "metadata": {},
     "output_type": "execute_result"
    },
    {
     "data": {
      "image/png": "[encoded data removed]",
      "text/plain": [
       "<Figure size 432x288 with 2 Axes>"
      ]
     },
     "metadata": {
      "needs_background": "light"
     },
     "output_type": "display_data"
    }
   ],
   "source": [
    "predictions = clf.predict(X_train)\n",
    "cm = confusion_matrix(y_train, predictions, labels=clf.classes_)\n",
    "disp = ConfusionMatrixDisplay(confusion_matrix=cm, display_labels=clf.classes_)\n",
    "disp.plot()"
   ]
  },
  {
   "cell_type": "code",
   "execution_count": 426,
   "metadata": {},
   "outputs": [
    {
     "data": {
      "text/plain": [
       "<sklearn.metrics._plot.confusion_matrix.ConfusionMatrixDisplay at 0x13204503040>"
      ]
     },
     "execution_count": 426,
     "metadata": {},
     "output_type": "execute_result"
    },
    {
     "data": {
      "image/png": "[encoded data removed]",
      "text/plain": [
       "<Figure size 432x288 with 2 Axes>"
      ]
     },
     "metadata": {
      "needs_background": "light"
     },
     "output_type": "display_data"
    }
   ],
   "source": [
    "predictions = clf.predict(X_test)\n",
    "cm = confusion_matrix(y_test, predictions, labels=clf.classes_)\n",
    "disp = ConfusionMatrixDisplay(confusion_matrix=cm, display_labels=clf.classes_)\n",
    "disp.plot()"
   ]
  },
  {
   "cell_type": "code",
   "execution_count": 316,
   "metadata": {},
   "outputs": [
    {
     "data": {
      "text/html": [
       "<div>\n",
       "<style scoped>\n",
       "    .dataframe tbody tr th:only-of-type {\n",
       "        vertical-align: middle;\n",
       "    }\n",
       "\n",
       "    .dataframe tbody tr th {\n",
       "        vertical-align: top;\n",
       "    }\n",
       "\n",
       "    .dataframe thead th {\n",
       "        text-align: right;\n",
       "    }\n",
       "</style>\n",
       "<table border=\"1\" class=\"dataframe\">\n",
       "  <thead>\n",
       "    <tr style=\"text-align: right;\">\n",
       "      <th></th>\n",
       "      <th>lev</th>\n",
       "      <th>correcto</th>\n",
       "    </tr>\n",
       "    <tr>\n",
       "      <th>id</th>\n",
       "      <th></th>\n",
       "      <th></th>\n",
       "    </tr>\n",
       "  </thead>\n",
       "  <tbody>\n",
       "    <tr>\n",
       "      <th>85815</th>\n",
       "      <td>0.023256</td>\n",
       "      <td>0</td>\n",
       "    </tr>\n",
       "    <tr>\n",
       "      <th>64812</th>\n",
       "      <td>0.047059</td>\n",
       "      <td>0</td>\n",
       "    </tr>\n",
       "    <tr>\n",
       "      <th>84148</th>\n",
       "      <td>0.000000</td>\n",
       "      <td>0</td>\n",
       "    </tr>\n",
       "    <tr>\n",
       "      <th>88565</th>\n",
       "      <td>0.269231</td>\n",
       "      <td>0</td>\n",
       "    </tr>\n",
       "    <tr>\n",
       "      <th>51688</th>\n",
       "      <td>0.117647</td>\n",
       "      <td>0</td>\n",
       "    </tr>\n",
       "    <tr>\n",
       "      <th>...</th>\n",
       "      <td>...</td>\n",
       "      <td>...</td>\n",
       "    </tr>\n",
       "    <tr>\n",
       "      <th>54685</th>\n",
       "      <td>0.150000</td>\n",
       "      <td>1</td>\n",
       "    </tr>\n",
       "    <tr>\n",
       "      <th>87324</th>\n",
       "      <td>0.087719</td>\n",
       "      <td>1</td>\n",
       "    </tr>\n",
       "    <tr>\n",
       "      <th>73798</th>\n",
       "      <td>0.400000</td>\n",
       "      <td>0</td>\n",
       "    </tr>\n",
       "    <tr>\n",
       "      <th>95242</th>\n",
       "      <td>0.086957</td>\n",
       "      <td>0</td>\n",
       "    </tr>\n",
       "    <tr>\n",
       "      <th>84226</th>\n",
       "      <td>0.025641</td>\n",
       "      <td>1</td>\n",
       "    </tr>\n",
       "  </tbody>\n",
       "</table>\n",
       "<p>677 rows × 2 columns</p>\n",
       "</div>"
      ],
      "text/plain": [
       "            lev  correcto\n",
       "id                       \n",
       "85815  0.023256         0\n",
       "64812  0.047059         0\n",
       "84148  0.000000         0\n",
       "88565  0.269231         0\n",
       "51688  0.117647         0\n",
       "...         ...       ...\n",
       "54685  0.150000         1\n",
       "87324  0.087719         1\n",
       "73798  0.400000         0\n",
       "95242  0.086957         0\n",
       "84226  0.025641         1\n",
       "\n",
       "[677 rows x 2 columns]"
      ]
     },
     "execution_count": 316,
     "metadata": {},
     "output_type": "execute_result"
    }
   ],
   "source": [
    "X_2 = seg.copy()\n",
    "X_2[\"correcto\"] = X_2.apply(lambda x: int(\"correcto\" in x[\"Q\"]), axis=1)\n",
    "X_2 = X_2[\"lev correcto\".split()]\n",
    "X_2"
   ]
  },
  {
   "cell_type": "code",
   "execution_count": 317,
   "metadata": {},
   "outputs": [],
   "source": [
    "X_train, X_test, y_train, y_test = train_test_split(X_2, y_data, stratify=y_data, test_size=.20, random_state=42)"
   ]
  },
  {
   "cell_type": "code",
   "execution_count": 323,
   "metadata": {},
   "outputs": [
    {
     "data": {
      "text/plain": [
       "(0.4029574861367837, 0.36764705882352944)"
      ]
     },
     "execution_count": 323,
     "metadata": {},
     "output_type": "execute_result"
    }
   ],
   "source": [
    "clf = DecisionTreeClassifier(max_depth=3, class_weight=\"balanced\")\n",
    "clf.fit(X_train, y_train)\n",
    "clf.score(X_train, y_train), clf.score(X_test, y_test)"
   ]
  },
  {
   "cell_type": "code",
   "execution_count": 324,
   "metadata": {},
   "outputs": [
    {
     "data": {
      "image/png": "[encoded data removed]",
      "text/plain": [
       "<Figure size 1080x360 with 1 Axes>"
      ]
     },
     "metadata": {
      "needs_background": "light"
     },
     "output_type": "display_data"
    }
   ],
   "source": [
    "fig, ax = plt.subplots(1,1, figsize=(15, 5))\n",
    "plot_tree(clf, feature_names=X_2.columns, ax=ax);"
   ]
  },
  {
   "cell_type": "code",
   "execution_count": 311,
   "metadata": {},
   "outputs": [
    {
     "data": {
      "text/plain": [
       "<sklearn.metrics._plot.confusion_matrix.ConfusionMatrixDisplay at 0x132007100d0>"
      ]
     },
     "execution_count": 311,
     "metadata": {},
     "output_type": "execute_result"
    },
    {
     "data": {
      "image/png": "[encoded data removed]",
      "text/plain": [
       "<Figure size 432x288 with 2 Axes>"
      ]
     },
     "metadata": {
      "needs_background": "light"
     },
     "output_type": "display_data"
    }
   ],
   "source": [
    "predictions = clf.predict(X_train)\n",
    "cm = confusion_matrix(y_train, predictions, labels=clf.classes_)\n",
    "disp = ConfusionMatrixDisplay(confusion_matrix=cm, display_labels=clf.classes_)\n",
    "disp.plot()"
   ]
  },
  {
   "cell_type": "code",
   "execution_count": 312,
   "metadata": {},
   "outputs": [
    {
     "data": {
      "text/plain": [
       "<sklearn.metrics._plot.confusion_matrix.ConfusionMatrixDisplay at 0x13203e21700>"
      ]
     },
     "execution_count": 312,
     "metadata": {},
     "output_type": "execute_result"
    },
    {
     "data": {
      "image/png": "[encoded data removed]",
      "text/plain": [
       "<Figure size 432x288 with 2 Axes>"
      ]
     },
     "metadata": {
      "needs_background": "light"
     },
     "output_type": "display_data"
    }
   ],
   "source": [
    "predictions = clf.predict(X_test)\n",
    "cm = confusion_matrix(y_test, predictions, labels=clf.classes_)\n",
    "disp = ConfusionMatrixDisplay(confusion_matrix=cm, display_labels=clf.classes_)\n",
    "disp.plot()"
   ]
  },
  {
   "cell_type": "code",
   "execution_count": null,
   "metadata": {},
   "outputs": [],
   "source": [
    "X_train, X_test, y_train, y_test = train_test_split(X_data, y_data, stratify=y_data, test_size=0.10, random_state=2022)"
   ]
  },
  {
   "cell_type": "code",
   "execution_count": 829,
   "metadata": {},
   "outputs": [],
   "source": [
    "clf = Pipeline(steps=[\n",
    "    ('vect', CountVectorizer(min_df=5, lowercase=True, ngram_range=(1, 3), stop_words=my_stop_words, tokenizer=LemmaTokenizer())),\n",
    "    ('tfidf', TfidfTransformer(use_idf=False)),\n",
    "    ('clf', MultinomialNB(alpha=1)),\n",
    "])"
   ]
  },
  {
   "cell_type": "code",
   "execution_count": 830,
   "metadata": {},
   "outputs": [
    {
     "data": {
      "text/plain": [
       "Pipeline(steps=[('vect',\n",
       "                 CountVectorizer(min_df=5, ngram_range=(1, 3),\n",
       "                                 stop_words=['der', 'lar', 'car', 'el', 'er',\n",
       "                                             'y', 'ar', 'los', 'del', 'ser',\n",
       "                                             'lar', 'por', 'un', 'parar', 'con',\n",
       "                                             'nar', 'unir', 'su', 'al', 'lar',\n",
       "                                             'comer', 'más', 'perar', 'sus',\n",
       "                                             'ler', 'ir', 'ar', 'er', 'ser',\n",
       "                                             'porcar', ...],\n",
       "                                 tokenizer=<__main__.LemmaTokenizer object at 0x000001D422B38DF0>)),\n",
       "                ('tfidf', TfidfTransformer(use_idf=False)),\n",
       "                ('clf', MultinomialNB(alpha=1))])"
      ]
     },
     "execution_count": 830,
     "metadata": {},
     "output_type": "execute_result"
    }
   ],
   "source": [
    "clf.fit(X_train[\"Q\"], y_train)"
   ]
  },
  {
   "cell_type": "code",
   "execution_count": 748,
   "metadata": {},
   "outputs": [],
   "source": [
    "from sklearn.model_selection import GridSearchCV"
   ]
  },
  {
   "cell_type": "code",
   "execution_count": 831,
   "metadata": {},
   "outputs": [
    {
     "data": {
      "text/html": [
       "<div>\n",
       "<style scoped>\n",
       "    .dataframe tbody tr th:only-of-type {\n",
       "        vertical-align: middle;\n",
       "    }\n",
       "\n",
       "    .dataframe tbody tr th {\n",
       "        vertical-align: top;\n",
       "    }\n",
       "\n",
       "    .dataframe thead th {\n",
       "        text-align: right;\n",
       "    }\n",
       "</style>\n",
       "<table border=\"1\" class=\"dataframe\">\n",
       "  <thead>\n",
       "    <tr style=\"text-align: right;\">\n",
       "      <th></th>\n",
       "      <th>0</th>\n",
       "      <th>1</th>\n",
       "      <th>accuracy</th>\n",
       "      <th>macro avg</th>\n",
       "      <th>weighted avg</th>\n",
       "    </tr>\n",
       "  </thead>\n",
       "  <tbody>\n",
       "    <tr>\n",
       "      <th>precision</th>\n",
       "      <td>0.838998</td>\n",
       "      <td>0.540000</td>\n",
       "      <td>0.81445</td>\n",
       "      <td>0.689499</td>\n",
       "      <td>0.781555</td>\n",
       "    </tr>\n",
       "    <tr>\n",
       "      <th>recall</th>\n",
       "      <td>0.953252</td>\n",
       "      <td>0.230769</td>\n",
       "      <td>0.81445</td>\n",
       "      <td>0.592011</td>\n",
       "      <td>0.814450</td>\n",
       "    </tr>\n",
       "    <tr>\n",
       "      <th>f1-score</th>\n",
       "      <td>0.892483</td>\n",
       "      <td>0.323353</td>\n",
       "      <td>0.81445</td>\n",
       "      <td>0.607918</td>\n",
       "      <td>0.783143</td>\n",
       "    </tr>\n",
       "    <tr>\n",
       "      <th>support</th>\n",
       "      <td>492.000000</td>\n",
       "      <td>117.000000</td>\n",
       "      <td>0.81445</td>\n",
       "      <td>609.000000</td>\n",
       "      <td>609.000000</td>\n",
       "    </tr>\n",
       "  </tbody>\n",
       "</table>\n",
       "</div>"
      ],
      "text/plain": [
       "                    0           1  accuracy   macro avg  weighted avg\n",
       "precision    0.838998    0.540000   0.81445    0.689499      0.781555\n",
       "recall       0.953252    0.230769   0.81445    0.592011      0.814450\n",
       "f1-score     0.892483    0.323353   0.81445    0.607918      0.783143\n",
       "support    492.000000  117.000000   0.81445  609.000000    609.000000"
      ]
     },
     "execution_count": 831,
     "metadata": {},
     "output_type": "execute_result"
    }
   ],
   "source": [
    "y_pred = clf.predict(X_train[\"Q\"])\n",
    "report = classification_report(y_train, y_pred, output_dict=True)\n",
    "train_report = pd.DataFrame(report)\n",
    "train_report"
   ]
  },
  {
   "cell_type": "code",
   "execution_count": 832,
   "metadata": {},
   "outputs": [
    {
     "data": {
      "text/html": [
       "<div>\n",
       "<style scoped>\n",
       "    .dataframe tbody tr th:only-of-type {\n",
       "        vertical-align: middle;\n",
       "    }\n",
       "\n",
       "    .dataframe tbody tr th {\n",
       "        vertical-align: top;\n",
       "    }\n",
       "\n",
       "    .dataframe thead th {\n",
       "        text-align: right;\n",
       "    }\n",
       "</style>\n",
       "<table border=\"1\" class=\"dataframe\">\n",
       "  <thead>\n",
       "    <tr style=\"text-align: right;\">\n",
       "      <th></th>\n",
       "      <th>0</th>\n",
       "      <th>1</th>\n",
       "      <th>accuracy</th>\n",
       "      <th>macro avg</th>\n",
       "      <th>weighted avg</th>\n",
       "    </tr>\n",
       "  </thead>\n",
       "  <tbody>\n",
       "    <tr>\n",
       "      <th>precision</th>\n",
       "      <td>0.843750</td>\n",
       "      <td>0.750000</td>\n",
       "      <td>0.838235</td>\n",
       "      <td>0.796875</td>\n",
       "      <td>0.825827</td>\n",
       "    </tr>\n",
       "    <tr>\n",
       "      <th>recall</th>\n",
       "      <td>0.981818</td>\n",
       "      <td>0.230769</td>\n",
       "      <td>0.838235</td>\n",
       "      <td>0.606294</td>\n",
       "      <td>0.838235</td>\n",
       "    </tr>\n",
       "    <tr>\n",
       "      <th>f1-score</th>\n",
       "      <td>0.907563</td>\n",
       "      <td>0.352941</td>\n",
       "      <td>0.838235</td>\n",
       "      <td>0.630252</td>\n",
       "      <td>0.801532</td>\n",
       "    </tr>\n",
       "    <tr>\n",
       "      <th>support</th>\n",
       "      <td>55.000000</td>\n",
       "      <td>13.000000</td>\n",
       "      <td>0.838235</td>\n",
       "      <td>68.000000</td>\n",
       "      <td>68.000000</td>\n",
       "    </tr>\n",
       "  </tbody>\n",
       "</table>\n",
       "</div>"
      ],
      "text/plain": [
       "                   0          1  accuracy  macro avg  weighted avg\n",
       "precision   0.843750   0.750000  0.838235   0.796875      0.825827\n",
       "recall      0.981818   0.230769  0.838235   0.606294      0.838235\n",
       "f1-score    0.907563   0.352941  0.838235   0.630252      0.801532\n",
       "support    55.000000  13.000000  0.838235  68.000000     68.000000"
      ]
     },
     "execution_count": 832,
     "metadata": {},
     "output_type": "execute_result"
    }
   ],
   "source": [
    "y_pred = clf.predict(X_test[\"Q\"])\n",
    "report = classification_report(y_test, y_pred, output_dict=True)\n",
    "val_report = pd.DataFrame(report)\n",
    "val_report"
   ]
  },
  {
   "cell_type": "code",
   "execution_count": 833,
   "metadata": {},
   "outputs": [
    {
     "name": "stdout",
     "output_type": "stream",
     "text": [
      "1248 vierner -6.193426475305584\n",
      "220 actividar -6.193426475305584\n",
      "52 2 -6.176374499074753\n",
      "478 cobrar -6.147925433323385\n",
      "537 correctar decir -6.012202671492233\n",
      "103 3 -5.850352580147477\n",
      "438 chocolater -5.787000713363692\n",
      "499 comprar -5.718871876575554\n",
      "366 cadar -5.58645863087809\n",
      "276 amigar -5.5473287838996335\n",
      "744 explicar palabrar -5.426475014732937\n",
      "532 correctar -5.310865093802841\n",
      "991 palabrar -5.179584464016825\n",
      "739 explicar -4.996905433591869\n",
      "618 decir -4.8329090108338875\n"
     ]
    },
    {
     "name": "stderr",
     "output_type": "stream",
     "text": [
      "C:\\Users\\felip\\anaconda3\\lib\\site-packages\\sklearn\\utils\\deprecation.py:103: FutureWarning: Attribute `coef_` was deprecated in version 0.24 and will be removed in 1.1 (renaming of 0.26).\n",
      "  warnings.warn(msg, category=FutureWarning)\n",
      "C:\\Users\\felip\\anaconda3\\lib\\site-packages\\sklearn\\utils\\deprecation.py:87: FutureWarning: Function get_feature_names is deprecated; get_feature_names is deprecated in 1.0 and will be removed in 1.2. Please use get_feature_names_out instead.\n",
      "  warnings.warn(msg, category=FutureWarning)\n"
     ]
    }
   ],
   "source": [
    "for x in np.argsort(clf[\"clf\"].coef_[0])[-15:]:\n",
    "    print(x, clf[\"vect\"].get_feature_names()[x], clf[\"clf\"].coef_[0][x]) "
   ]
  },
  {
   "cell_type": "code",
   "execution_count": 835,
   "metadata": {},
   "outputs": [],
   "source": [
    "vector = clf[\"vect\"].transform(X_data[\"Q\"])"
   ]
  },
  {
   "cell_type": "code",
   "execution_count": 851,
   "metadata": {},
   "outputs": [
    {
     "data": {
      "text/plain": [
       "<matplotlib.image.AxesImage at 0x1d423e77f70>"
      ]
     },
     "execution_count": 851,
     "metadata": {},
     "output_type": "execute_result"
    },
    {
     "data": {
      "image/png": "[encoded data removed]",
      "text/plain": [
       "<Figure size 1800x144 with 1 Axes>"
      ]
     },
     "metadata": {
      "needs_background": "light"
     },
     "output_type": "display_data"
    }
   ],
   "source": [
    "fig, ax = plt.subplots(1, 1, figsize=(25, 2))\n",
    "ax.imshow(np.vstack([df_comp[[0, 1, 2, 3]].T.values, 50*np.array(vector[:, 739].todense()>0).ravel(), 25*np.array([int(\"mal\" in x.lower()) for x in X_raw[\"A\"]]), 25*np.array([int(\"bien\" in x.lower()) for x in X_raw[\"A\"]])]), interpolation='nearest', aspect='auto', cmap=\"gist_ncar_r\")"
   ]
  },
  {
   "cell_type": "code",
   "execution_count": 473,
   "metadata": {},
   "outputs": [],
   "source": [
    "from sklearn.metrics import classification_report"
   ]
  },
  {
   "cell_type": "code",
   "execution_count": 490,
   "metadata": {},
   "outputs": [
    {
     "name": "stdout",
     "output_type": "stream",
     "text": [
      "3 [('correcto', 0.3591136496169584), ('palabras', 1.7333457340390808), ('amiga', 0.5582847084162663)]\n",
      "1 [('para', -0.39021787803926905)]\n"
     ]
    },
    {
     "name": "stderr",
     "output_type": "stream",
     "text": [
      "C:\\Users\\felip\\anaconda3\\lib\\site-packages\\sklearn\\utils\\deprecation.py:87: FutureWarning: Function plot_confusion_matrix is deprecated; Function `plot_confusion_matrix` is deprecated in 1.0 and will be removed in 1.2. Use one of the class methods: ConfusionMatrixDisplay.from_predictions or ConfusionMatrixDisplay.from_estimator.\n",
      "  warnings.warn(msg, category=FutureWarning)\n",
      "C:\\Users\\felip\\anaconda3\\lib\\site-packages\\sklearn\\utils\\deprecation.py:87: FutureWarning: Function plot_confusion_matrix is deprecated; Function `plot_confusion_matrix` is deprecated in 1.0 and will be removed in 1.2. Use one of the class methods: ConfusionMatrixDisplay.from_predictions or ConfusionMatrixDisplay.from_estimator.\n",
      "  warnings.warn(msg, category=FutureWarning)\n"
     ]
    },
    {
     "name": "stdout",
     "output_type": "stream",
     "text": [
      "Wall time: 346 ms\n"
     ]
    },
    {
     "data": {
      "text/plain": [
       "<sklearn.metrics._plot.confusion_matrix.ConfusionMatrixDisplay at 0x1d41f277bb0>"
      ]
     },
     "execution_count": 490,
     "metadata": {},
     "output_type": "execute_result"
    },
    {
     "data": {
      "image/png": "[encoded data removed]",
      "text/plain": [
       "<Figure size 432x288 with 2 Axes>"
      ]
     },
     "metadata": {
      "needs_background": "light"
     },
     "output_type": "display_data"
    },
    {
     "data": {
      "image/png": "[encoded data removed]",
      "text/plain": [
       "<Figure size 432x288 with 2 Axes>"
      ]
     },
     "metadata": {
      "needs_background": "light"
     },
     "output_type": "display_data"
    }
   ],
   "source": [
    "%%time\n",
    "pipe = Pipeline(steps=[\n",
    "    ('tfidf', TfidfVectorizer(use_idf=False)),\n",
    "    (\"clf\", LogisticRegression(\n",
    "        C=0.4,\n",
    "        penalty=\"l1\", \n",
    "        class_weight=\"balanced\", \n",
    "        solver=\"liblinear\", \n",
    "        random_state=42))\n",
    "])\n",
    "pipe.fit(X_train[\"Q\"], y_train)\n",
    "ixs = np.where(pipe[\"clf\"].coef_>0)[1]\n",
    "cols = [(k, pipe[\"clf\"].coef_[0, v]) for k, v in pipe[\"tfidf\"].vocabulary_.items() if v in ixs]\n",
    "print(len(cols), cols)\n",
    "ixs = np.where(pipe[\"clf\"].coef_<0)[1]\n",
    "cols = [(k, pipe[\"clf\"].coef_[0, v]) for k, v in pipe[\"tfidf\"].vocabulary_.items() if v in ixs]\n",
    "print(len(cols), cols)\n",
    "plot_confusion_matrix(pipe, X_train[\"Q\"], y_train);\n",
    "plot_confusion_matrix(pipe, X_test[\"Q\"], y_test);"
   ]
  }
 ],
 "metadata": {
  "kernelspec": {
   "display_name": "Python 3 (ipykernel)",
   "language": "python",
   "name": "python3"
  },
  "language_info": {
   "codemirror_mode": {
    "name": "ipython",
    "version": 3
   },
   "file_extension": ".py",
   "mimetype": "text/x-python",
   "name": "python",
   "nbconvert_exporter": "python",
   "pygments_lexer": "ipython3",
   "version": "3.8.5"
  }
 },
 "nbformat": 4,
 "nbformat_minor": 4
}
